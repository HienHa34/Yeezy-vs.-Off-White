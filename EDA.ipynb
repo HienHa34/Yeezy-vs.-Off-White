{
 "cells": [
  {
   "cell_type": "code",
   "execution_count": 1,
   "metadata": {},
   "outputs": [],
   "source": [
    "import pandas as pd\n",
    "import numpy as np\n",
    "\n",
    "import matplotlib.pyplot as plt\n",
    "%matplotlib inline\n",
    "plt.style.use('ggplot')\n"
   ]
  },
  {
   "cell_type": "code",
   "execution_count": 7,
   "metadata": {},
   "outputs": [],
   "source": [
    "df = pd.read_excel('StockX-Data-Contest-2019-3.xlsx',sheet_name = 'Raw Data')"
   ]
  },
  {
   "cell_type": "code",
   "execution_count": 8,
   "metadata": {
    "scrolled": true
   },
   "outputs": [
    {
     "data": {
      "text/html": [
       "<div>\n",
       "<style scoped>\n",
       "    .dataframe tbody tr th:only-of-type {\n",
       "        vertical-align: middle;\n",
       "    }\n",
       "\n",
       "    .dataframe tbody tr th {\n",
       "        vertical-align: top;\n",
       "    }\n",
       "\n",
       "    .dataframe thead th {\n",
       "        text-align: right;\n",
       "    }\n",
       "</style>\n",
       "<table border=\"1\" class=\"dataframe\">\n",
       "  <thead>\n",
       "    <tr style=\"text-align: right;\">\n",
       "      <th></th>\n",
       "      <th>Order Date</th>\n",
       "      <th>Brand</th>\n",
       "      <th>Sneaker Name</th>\n",
       "      <th>Sale Price</th>\n",
       "      <th>Retail Price</th>\n",
       "      <th>Release Date</th>\n",
       "      <th>Shoe Size</th>\n",
       "      <th>Buyer Region</th>\n",
       "    </tr>\n",
       "  </thead>\n",
       "  <tbody>\n",
       "    <tr>\n",
       "      <td>0</td>\n",
       "      <td>2017-09-01</td>\n",
       "      <td>Yeezy</td>\n",
       "      <td>Adidas-Yeezy-Boost-350-Low-V2-Beluga</td>\n",
       "      <td>1097.0</td>\n",
       "      <td>220</td>\n",
       "      <td>2016-09-24</td>\n",
       "      <td>11.0</td>\n",
       "      <td>California</td>\n",
       "    </tr>\n",
       "    <tr>\n",
       "      <td>1</td>\n",
       "      <td>2017-09-01</td>\n",
       "      <td>Yeezy</td>\n",
       "      <td>Adidas-Yeezy-Boost-350-V2-Core-Black-Copper</td>\n",
       "      <td>685.0</td>\n",
       "      <td>220</td>\n",
       "      <td>2016-11-23</td>\n",
       "      <td>11.0</td>\n",
       "      <td>California</td>\n",
       "    </tr>\n",
       "    <tr>\n",
       "      <td>2</td>\n",
       "      <td>2017-09-01</td>\n",
       "      <td>Yeezy</td>\n",
       "      <td>Adidas-Yeezy-Boost-350-V2-Core-Black-Green</td>\n",
       "      <td>690.0</td>\n",
       "      <td>220</td>\n",
       "      <td>2016-11-23</td>\n",
       "      <td>11.0</td>\n",
       "      <td>California</td>\n",
       "    </tr>\n",
       "    <tr>\n",
       "      <td>3</td>\n",
       "      <td>2017-09-01</td>\n",
       "      <td>Yeezy</td>\n",
       "      <td>Adidas-Yeezy-Boost-350-V2-Core-Black-Red</td>\n",
       "      <td>1075.0</td>\n",
       "      <td>220</td>\n",
       "      <td>2016-11-23</td>\n",
       "      <td>11.5</td>\n",
       "      <td>Kentucky</td>\n",
       "    </tr>\n",
       "    <tr>\n",
       "      <td>4</td>\n",
       "      <td>2017-09-01</td>\n",
       "      <td>Yeezy</td>\n",
       "      <td>Adidas-Yeezy-Boost-350-V2-Core-Black-Red-2017</td>\n",
       "      <td>828.0</td>\n",
       "      <td>220</td>\n",
       "      <td>2017-02-11</td>\n",
       "      <td>11.0</td>\n",
       "      <td>Rhode Island</td>\n",
       "    </tr>\n",
       "  </tbody>\n",
       "</table>\n",
       "</div>"
      ],
      "text/plain": [
       "  Order Date   Brand                                   Sneaker Name  \\\n",
       "0 2017-09-01   Yeezy           Adidas-Yeezy-Boost-350-Low-V2-Beluga   \n",
       "1 2017-09-01   Yeezy    Adidas-Yeezy-Boost-350-V2-Core-Black-Copper   \n",
       "2 2017-09-01   Yeezy     Adidas-Yeezy-Boost-350-V2-Core-Black-Green   \n",
       "3 2017-09-01   Yeezy       Adidas-Yeezy-Boost-350-V2-Core-Black-Red   \n",
       "4 2017-09-01   Yeezy  Adidas-Yeezy-Boost-350-V2-Core-Black-Red-2017   \n",
       "\n",
       "   Sale Price  Retail Price Release Date  Shoe Size  Buyer Region  \n",
       "0      1097.0           220   2016-09-24       11.0    California  \n",
       "1       685.0           220   2016-11-23       11.0    California  \n",
       "2       690.0           220   2016-11-23       11.0    California  \n",
       "3      1075.0           220   2016-11-23       11.5      Kentucky  \n",
       "4       828.0           220   2017-02-11       11.0  Rhode Island  "
      ]
     },
     "execution_count": 8,
     "metadata": {},
     "output_type": "execute_result"
    }
   ],
   "source": [
    "df.head()"
   ]
  },
  {
   "cell_type": "code",
   "execution_count": 9,
   "metadata": {},
   "outputs": [
    {
     "data": {
      "text/plain": [
       "(99956, 8)"
      ]
     },
     "execution_count": 9,
     "metadata": {},
     "output_type": "execute_result"
    }
   ],
   "source": [
    "df.shape"
   ]
  },
  {
   "cell_type": "code",
   "execution_count": 10,
   "metadata": {},
   "outputs": [
    {
     "name": "stdout",
     "output_type": "stream",
     "text": [
      "<class 'pandas.core.frame.DataFrame'>\n",
      "RangeIndex: 99956 entries, 0 to 99955\n",
      "Data columns (total 8 columns):\n",
      "Order Date      99956 non-null datetime64[ns]\n",
      "Brand           99956 non-null object\n",
      "Sneaker Name    99956 non-null object\n",
      "Sale Price      99956 non-null float64\n",
      "Retail Price    99956 non-null int64\n",
      "Release Date    99956 non-null datetime64[ns]\n",
      "Shoe Size       99956 non-null float64\n",
      "Buyer Region    99956 non-null object\n",
      "dtypes: datetime64[ns](2), float64(2), int64(1), object(3)\n",
      "memory usage: 6.1+ MB\n"
     ]
    }
   ],
   "source": [
    "df.info()"
   ]
  },
  {
   "cell_type": "code",
   "execution_count": 12,
   "metadata": {
    "scrolled": true
   },
   "outputs": [
    {
     "data": {
      "text/plain": [
       "False"
      ]
     },
     "execution_count": 12,
     "metadata": {},
     "output_type": "execute_result"
    }
   ],
   "source": [
    "df.isnull().values.any()"
   ]
  },
  {
   "cell_type": "markdown",
   "metadata": {},
   "source": [
    "Quantity bought of each brand"
   ]
  },
  {
   "cell_type": "code",
   "execution_count": 15,
   "metadata": {
    "scrolled": true
   },
   "outputs": [
    {
     "data": {
      "text/plain": [
       " Yeezy       72162\n",
       "Off-White    27794\n",
       "Name: Brand, dtype: int64"
      ]
     },
     "execution_count": 15,
     "metadata": {},
     "output_type": "execute_result"
    }
   ],
   "source": [
    "df['Brand'].value_counts()"
   ]
  },
  {
   "cell_type": "markdown",
   "metadata": {},
   "source": [
    "How many different sneakers are there?"
   ]
  },
  {
   "cell_type": "code",
   "execution_count": 16,
   "metadata": {
    "scrolled": false
   },
   "outputs": [
    {
     "data": {
      "text/plain": [
       "50"
      ]
     },
     "execution_count": 16,
     "metadata": {},
     "output_type": "execute_result"
    }
   ],
   "source": [
    "df['Sneaker Name'].nunique()"
   ]
  },
  {
   "cell_type": "markdown",
   "metadata": {},
   "source": [
    "Name of sneakers in the data"
   ]
  },
  {
   "cell_type": "code",
   "execution_count": 24,
   "metadata": {
    "scrolled": false
   },
   "outputs": [
    {
     "data": {
      "text/plain": [
       "array(['Adidas-Yeezy-Boost-350-Low-V2-Beluga',\n",
       "       'Adidas-Yeezy-Boost-350-V2-Core-Black-Copper',\n",
       "       'Adidas-Yeezy-Boost-350-V2-Core-Black-Green',\n",
       "       'Adidas-Yeezy-Boost-350-V2-Core-Black-Red',\n",
       "       'Adidas-Yeezy-Boost-350-V2-Core-Black-Red-2017',\n",
       "       'Adidas-Yeezy-Boost-350-V2-Core-Black-White',\n",
       "       'Adidas-Yeezy-Boost-350-V2-Cream-White',\n",
       "       'Adidas-Yeezy-Boost-350-V2-Zebra',\n",
       "       'Adidas-Yeezy-Boost-350-Low-Moonrock', 'Nike-Air-Max-90-Off-White',\n",
       "       'Nike-Air-Presto-Off-White', 'Nike-Air-VaporMax-Off-White',\n",
       "       'Air-Jordan-1-Retro-High-Off-White-Chicago',\n",
       "       'Nike-Blazer-Mid-Off-White',\n",
       "       'Adidas-Yeezy-Boost-350-Low-Pirate-Black-2016',\n",
       "       'Adidas-Yeezy-Boost-350-Low-Oxford-Tan',\n",
       "       'Adidas-Yeezy-Boost-350-Low-Turtledove',\n",
       "       'Adidas-Yeezy-Boost-350-Low-Pirate-Black-2015',\n",
       "       'Adidas-Yeezy-Boost-350-V2-Semi-Frozen-Yellow',\n",
       "       'Nike-Air-Force-1-Low-Off-White', 'Nike-Air-Max-97-Off-White',\n",
       "       'Nike-Air-Force-1-Low-Virgil-Abloh-Off-White-AF100',\n",
       "       'Nike-React-Hyperdunk-2017-Flyknit-Off-White',\n",
       "       'Nike-Zoom-Fly-Off-White', 'Adidas-Yeezy-Boost-350-V2-Beluga-2pt0',\n",
       "       'Adidas-Yeezy-Boost-350-V2-Blue-Tint',\n",
       "       'Nike-Air-VaporMax-Off-White-2018',\n",
       "       'Air-Jordan-1-Retro-High-Off-White-White',\n",
       "       'Nike-Air-VaporMax-Off-White-Black',\n",
       "       'Air-Jordan-1-Retro-High-Off-White-University-Blue',\n",
       "       'Nike-Air-Presto-Off-White-Black-2018',\n",
       "       'Nike-Air-Presto-Off-White-White-2018',\n",
       "       'Nike-Zoom-Fly-Mercurial-Off-White-Black',\n",
       "       'Nike-Zoom-Fly-Mercurial-Off-White-Total-Orange',\n",
       "       'adidas-Yeezy-Boost-350-V2-Butter',\n",
       "       'Nike-Air-Max-97-Off-White-Elemental-Rose-Queen',\n",
       "       'Nike-Blazer-Mid-Off-White-All-Hallows-Eve',\n",
       "       'Nike-Blazer-Mid-Off-White-Grim-Reaper',\n",
       "       'Adidas-Yeezy-Boost-350-V2-Sesame',\n",
       "       'Nike-Blazer-Mid-Off-White-Wolf-Grey',\n",
       "       'Nike-Air-Max-97-Off-White-Menta',\n",
       "       'Nike-Air-Max-97-Off-White-Black',\n",
       "       'Nike-Zoom-Fly-Off-White-Black-Silver',\n",
       "       'Nike-Zoom-Fly-Off-White-Pink',\n",
       "       'Nike-Air-Force-1-Low-Off-White-Volt',\n",
       "       'Nike-Air-Force-1-Low-Off-White-Black-White',\n",
       "       'adidas-Yeezy-Boost-350-V2-Static',\n",
       "       'adidas-Yeezy-Boost-350-V2-Static-Reflective',\n",
       "       'Nike-Air-Max-90-Off-White-Black',\n",
       "       'Nike-Air-Max-90-Off-White-Desert-Ore'], dtype=object)"
      ]
     },
     "execution_count": 24,
     "metadata": {},
     "output_type": "execute_result"
    }
   ],
   "source": [
    "df['Sneaker Name'].unique()"
   ]
  },
  {
   "cell_type": "markdown",
   "metadata": {},
   "source": [
    "How many different regions are there?"
   ]
  },
  {
   "cell_type": "code",
   "execution_count": 17,
   "metadata": {},
   "outputs": [
    {
     "data": {
      "text/plain": [
       "51"
      ]
     },
     "execution_count": 17,
     "metadata": {},
     "output_type": "execute_result"
    }
   ],
   "source": [
    "df['Buyer Region'].nunique()"
   ]
  },
  {
   "cell_type": "markdown",
   "metadata": {},
   "source": [
    "What are the regions?"
   ]
  },
  {
   "cell_type": "code",
   "execution_count": 23,
   "metadata": {
    "scrolled": true
   },
   "outputs": [
    {
     "data": {
      "text/plain": [
       "array(['California', 'Kentucky', 'Rhode Island', 'Michigan', 'New York',\n",
       "       'Kansas', 'Florida', 'New Jersey', 'Texas', 'North Carolina',\n",
       "       'Oregon', 'Alabama', 'Delaware', 'Virginia', 'Wisconsin',\n",
       "       'Colorado', 'Massachusetts', 'Pennsylvania', 'Louisiana',\n",
       "       'Washington', 'Georgia', 'Ohio', 'Nebraska', 'Oklahoma',\n",
       "       'Connecticut', 'Missouri', 'South Carolina', 'Maine', 'Illinois',\n",
       "       'Nevada', 'Maryland', 'Arizona', 'Minnesota', 'Iowa', 'Tennessee',\n",
       "       'West Virginia', 'Indiana', 'Arkansas', 'Alaska', 'Wyoming',\n",
       "       'Utah', 'New Hampshire', 'Vermont', 'District of Columbia',\n",
       "       'Hawaii', 'New Mexico', 'South Dakota', 'Mississippi',\n",
       "       'North Dakota', 'Idaho', 'Montana'], dtype=object)"
      ]
     },
     "execution_count": 23,
     "metadata": {},
     "output_type": "execute_result"
    }
   ],
   "source": [
    "df['Buyer Region'].unique()"
   ]
  },
  {
   "cell_type": "markdown",
   "metadata": {},
   "source": [
    "Highest sale price"
   ]
  },
  {
   "cell_type": "code",
   "execution_count": 20,
   "metadata": {
    "scrolled": true
   },
   "outputs": [
    {
     "data": {
      "text/html": [
       "<div>\n",
       "<style scoped>\n",
       "    .dataframe tbody tr th:only-of-type {\n",
       "        vertical-align: middle;\n",
       "    }\n",
       "\n",
       "    .dataframe tbody tr th {\n",
       "        vertical-align: top;\n",
       "    }\n",
       "\n",
       "    .dataframe thead th {\n",
       "        text-align: right;\n",
       "    }\n",
       "</style>\n",
       "<table border=\"1\" class=\"dataframe\">\n",
       "  <thead>\n",
       "    <tr style=\"text-align: right;\">\n",
       "      <th></th>\n",
       "      <th>Order Date</th>\n",
       "      <th>Brand</th>\n",
       "      <th>Sneaker Name</th>\n",
       "      <th>Sale Price</th>\n",
       "      <th>Retail Price</th>\n",
       "      <th>Release Date</th>\n",
       "      <th>Shoe Size</th>\n",
       "      <th>Buyer Region</th>\n",
       "    </tr>\n",
       "  </thead>\n",
       "  <tbody>\n",
       "    <tr>\n",
       "      <td>26870</td>\n",
       "      <td>2018-05-26</td>\n",
       "      <td>Off-White</td>\n",
       "      <td>Air-Jordan-1-Retro-High-Off-White-Chicago</td>\n",
       "      <td>4050.0</td>\n",
       "      <td>190</td>\n",
       "      <td>2017-09-09</td>\n",
       "      <td>6.0</td>\n",
       "      <td>Wisconsin</td>\n",
       "    </tr>\n",
       "  </tbody>\n",
       "</table>\n",
       "</div>"
      ],
      "text/plain": [
       "      Order Date      Brand                               Sneaker Name  \\\n",
       "26870 2018-05-26  Off-White  Air-Jordan-1-Retro-High-Off-White-Chicago   \n",
       "\n",
       "       Sale Price  Retail Price Release Date  Shoe Size Buyer Region  \n",
       "26870      4050.0           190   2017-09-09        6.0    Wisconsin  "
      ]
     },
     "execution_count": 20,
     "metadata": {},
     "output_type": "execute_result"
    }
   ],
   "source": [
    "df[df['Sale Price'] == df['Sale Price'].max()]"
   ]
  },
  {
   "cell_type": "markdown",
   "metadata": {},
   "source": [
    "Lowest sale price"
   ]
  },
  {
   "cell_type": "code",
   "execution_count": 21,
   "metadata": {},
   "outputs": [
    {
     "data": {
      "text/html": [
       "<div>\n",
       "<style scoped>\n",
       "    .dataframe tbody tr th:only-of-type {\n",
       "        vertical-align: middle;\n",
       "    }\n",
       "\n",
       "    .dataframe tbody tr th {\n",
       "        vertical-align: top;\n",
       "    }\n",
       "\n",
       "    .dataframe thead th {\n",
       "        text-align: right;\n",
       "    }\n",
       "</style>\n",
       "<table border=\"1\" class=\"dataframe\">\n",
       "  <thead>\n",
       "    <tr style=\"text-align: right;\">\n",
       "      <th></th>\n",
       "      <th>Order Date</th>\n",
       "      <th>Brand</th>\n",
       "      <th>Sneaker Name</th>\n",
       "      <th>Sale Price</th>\n",
       "      <th>Retail Price</th>\n",
       "      <th>Release Date</th>\n",
       "      <th>Shoe Size</th>\n",
       "      <th>Buyer Region</th>\n",
       "    </tr>\n",
       "  </thead>\n",
       "  <tbody>\n",
       "    <tr>\n",
       "      <td>70545</td>\n",
       "      <td>2018-12-05</td>\n",
       "      <td>Yeezy</td>\n",
       "      <td>Adidas-Yeezy-Boost-350-V2-Sesame</td>\n",
       "      <td>186.0</td>\n",
       "      <td>220</td>\n",
       "      <td>2018-11-23</td>\n",
       "      <td>4.0</td>\n",
       "      <td>New Jersey</td>\n",
       "    </tr>\n",
       "  </tbody>\n",
       "</table>\n",
       "</div>"
      ],
      "text/plain": [
       "      Order Date   Brand                      Sneaker Name  Sale Price  \\\n",
       "70545 2018-12-05   Yeezy  Adidas-Yeezy-Boost-350-V2-Sesame       186.0   \n",
       "\n",
       "       Retail Price Release Date  Shoe Size Buyer Region  \n",
       "70545           220   2018-11-23        4.0   New Jersey  "
      ]
     },
     "execution_count": 21,
     "metadata": {},
     "output_type": "execute_result"
    }
   ],
   "source": [
    "df[df['Sale Price']== df ['Sale Price'].min()]"
   ]
  },
  {
   "cell_type": "code",
   "execution_count": 22,
   "metadata": {
    "scrolled": true
   },
   "outputs": [
    {
     "data": {
      "text/html": [
       "<div>\n",
       "<style scoped>\n",
       "    .dataframe tbody tr th:only-of-type {\n",
       "        vertical-align: middle;\n",
       "    }\n",
       "\n",
       "    .dataframe tbody tr th {\n",
       "        vertical-align: top;\n",
       "    }\n",
       "\n",
       "    .dataframe thead th {\n",
       "        text-align: right;\n",
       "    }\n",
       "</style>\n",
       "<table border=\"1\" class=\"dataframe\">\n",
       "  <thead>\n",
       "    <tr style=\"text-align: right;\">\n",
       "      <th></th>\n",
       "      <th>Sale Price</th>\n",
       "      <th>Retail Price</th>\n",
       "      <th>Shoe Size</th>\n",
       "    </tr>\n",
       "  </thead>\n",
       "  <tbody>\n",
       "    <tr>\n",
       "      <td>count</td>\n",
       "      <td>99956.000000</td>\n",
       "      <td>99956.00000</td>\n",
       "      <td>99956.000000</td>\n",
       "    </tr>\n",
       "    <tr>\n",
       "      <td>mean</td>\n",
       "      <td>446.634754</td>\n",
       "      <td>208.61359</td>\n",
       "      <td>9.344181</td>\n",
       "    </tr>\n",
       "    <tr>\n",
       "      <td>std</td>\n",
       "      <td>255.982918</td>\n",
       "      <td>25.20001</td>\n",
       "      <td>2.329588</td>\n",
       "    </tr>\n",
       "    <tr>\n",
       "      <td>min</td>\n",
       "      <td>186.000000</td>\n",
       "      <td>130.00000</td>\n",
       "      <td>3.500000</td>\n",
       "    </tr>\n",
       "    <tr>\n",
       "      <td>25%</td>\n",
       "      <td>275.000000</td>\n",
       "      <td>220.00000</td>\n",
       "      <td>8.000000</td>\n",
       "    </tr>\n",
       "    <tr>\n",
       "      <td>50%</td>\n",
       "      <td>370.000000</td>\n",
       "      <td>220.00000</td>\n",
       "      <td>9.500000</td>\n",
       "    </tr>\n",
       "    <tr>\n",
       "      <td>75%</td>\n",
       "      <td>540.000000</td>\n",
       "      <td>220.00000</td>\n",
       "      <td>11.000000</td>\n",
       "    </tr>\n",
       "    <tr>\n",
       "      <td>max</td>\n",
       "      <td>4050.000000</td>\n",
       "      <td>250.00000</td>\n",
       "      <td>17.000000</td>\n",
       "    </tr>\n",
       "  </tbody>\n",
       "</table>\n",
       "</div>"
      ],
      "text/plain": [
       "         Sale Price  Retail Price     Shoe Size\n",
       "count  99956.000000   99956.00000  99956.000000\n",
       "mean     446.634754     208.61359      9.344181\n",
       "std      255.982918      25.20001      2.329588\n",
       "min      186.000000     130.00000      3.500000\n",
       "25%      275.000000     220.00000      8.000000\n",
       "50%      370.000000     220.00000      9.500000\n",
       "75%      540.000000     220.00000     11.000000\n",
       "max     4050.000000     250.00000     17.000000"
      ]
     },
     "execution_count": 22,
     "metadata": {},
     "output_type": "execute_result"
    }
   ],
   "source": [
    "df.describe()\n"
   ]
  },
  {
   "cell_type": "markdown",
   "metadata": {},
   "source": [
    "Create Profit Margin Column"
   ]
  },
  {
   "cell_type": "code",
   "execution_count": 29,
   "metadata": {},
   "outputs": [],
   "source": [
    "df['Profit Margin'] = ((df['Sale Price']-df['Retail Price'])/ df['Sale Price']).round(4)"
   ]
  },
  {
   "cell_type": "code",
   "execution_count": 30,
   "metadata": {
    "scrolled": true
   },
   "outputs": [
    {
     "data": {
      "text/html": [
       "<div>\n",
       "<style scoped>\n",
       "    .dataframe tbody tr th:only-of-type {\n",
       "        vertical-align: middle;\n",
       "    }\n",
       "\n",
       "    .dataframe tbody tr th {\n",
       "        vertical-align: top;\n",
       "    }\n",
       "\n",
       "    .dataframe thead th {\n",
       "        text-align: right;\n",
       "    }\n",
       "</style>\n",
       "<table border=\"1\" class=\"dataframe\">\n",
       "  <thead>\n",
       "    <tr style=\"text-align: right;\">\n",
       "      <th></th>\n",
       "      <th>Order Date</th>\n",
       "      <th>Brand</th>\n",
       "      <th>Sneaker Name</th>\n",
       "      <th>Sale Price</th>\n",
       "      <th>Retail Price</th>\n",
       "      <th>Release Date</th>\n",
       "      <th>Shoe Size</th>\n",
       "      <th>Buyer Region</th>\n",
       "      <th>Profit Margin</th>\n",
       "    </tr>\n",
       "  </thead>\n",
       "  <tbody>\n",
       "    <tr>\n",
       "      <td>0</td>\n",
       "      <td>2017-09-01</td>\n",
       "      <td>Yeezy</td>\n",
       "      <td>Adidas-Yeezy-Boost-350-Low-V2-Beluga</td>\n",
       "      <td>1097.0</td>\n",
       "      <td>220</td>\n",
       "      <td>2016-09-24</td>\n",
       "      <td>11.0</td>\n",
       "      <td>California</td>\n",
       "      <td>0.7995</td>\n",
       "    </tr>\n",
       "    <tr>\n",
       "      <td>1</td>\n",
       "      <td>2017-09-01</td>\n",
       "      <td>Yeezy</td>\n",
       "      <td>Adidas-Yeezy-Boost-350-V2-Core-Black-Copper</td>\n",
       "      <td>685.0</td>\n",
       "      <td>220</td>\n",
       "      <td>2016-11-23</td>\n",
       "      <td>11.0</td>\n",
       "      <td>California</td>\n",
       "      <td>0.6788</td>\n",
       "    </tr>\n",
       "    <tr>\n",
       "      <td>2</td>\n",
       "      <td>2017-09-01</td>\n",
       "      <td>Yeezy</td>\n",
       "      <td>Adidas-Yeezy-Boost-350-V2-Core-Black-Green</td>\n",
       "      <td>690.0</td>\n",
       "      <td>220</td>\n",
       "      <td>2016-11-23</td>\n",
       "      <td>11.0</td>\n",
       "      <td>California</td>\n",
       "      <td>0.6812</td>\n",
       "    </tr>\n",
       "    <tr>\n",
       "      <td>3</td>\n",
       "      <td>2017-09-01</td>\n",
       "      <td>Yeezy</td>\n",
       "      <td>Adidas-Yeezy-Boost-350-V2-Core-Black-Red</td>\n",
       "      <td>1075.0</td>\n",
       "      <td>220</td>\n",
       "      <td>2016-11-23</td>\n",
       "      <td>11.5</td>\n",
       "      <td>Kentucky</td>\n",
       "      <td>0.7953</td>\n",
       "    </tr>\n",
       "    <tr>\n",
       "      <td>4</td>\n",
       "      <td>2017-09-01</td>\n",
       "      <td>Yeezy</td>\n",
       "      <td>Adidas-Yeezy-Boost-350-V2-Core-Black-Red-2017</td>\n",
       "      <td>828.0</td>\n",
       "      <td>220</td>\n",
       "      <td>2017-02-11</td>\n",
       "      <td>11.0</td>\n",
       "      <td>Rhode Island</td>\n",
       "      <td>0.7343</td>\n",
       "    </tr>\n",
       "  </tbody>\n",
       "</table>\n",
       "</div>"
      ],
      "text/plain": [
       "  Order Date   Brand                                   Sneaker Name  \\\n",
       "0 2017-09-01   Yeezy           Adidas-Yeezy-Boost-350-Low-V2-Beluga   \n",
       "1 2017-09-01   Yeezy    Adidas-Yeezy-Boost-350-V2-Core-Black-Copper   \n",
       "2 2017-09-01   Yeezy     Adidas-Yeezy-Boost-350-V2-Core-Black-Green   \n",
       "3 2017-09-01   Yeezy       Adidas-Yeezy-Boost-350-V2-Core-Black-Red   \n",
       "4 2017-09-01   Yeezy  Adidas-Yeezy-Boost-350-V2-Core-Black-Red-2017   \n",
       "\n",
       "   Sale Price  Retail Price Release Date  Shoe Size  Buyer Region  \\\n",
       "0      1097.0           220   2016-09-24       11.0    California   \n",
       "1       685.0           220   2016-11-23       11.0    California   \n",
       "2       690.0           220   2016-11-23       11.0    California   \n",
       "3      1075.0           220   2016-11-23       11.5      Kentucky   \n",
       "4       828.0           220   2017-02-11       11.0  Rhode Island   \n",
       "\n",
       "   Profit Margin  \n",
       "0         0.7995  \n",
       "1         0.6788  \n",
       "2         0.6812  \n",
       "3         0.7953  \n",
       "4         0.7343  "
      ]
     },
     "execution_count": 30,
     "metadata": {},
     "output_type": "execute_result"
    }
   ],
   "source": [
    "df.head()"
   ]
  },
  {
   "cell_type": "markdown",
   "metadata": {},
   "source": [
    "How could I forget profit?"
   ]
  },
  {
   "cell_type": "code",
   "execution_count": 31,
   "metadata": {},
   "outputs": [],
   "source": [
    "df['Profit'] = df['Sale Price']-df['Retail Price']"
   ]
  },
  {
   "cell_type": "code",
   "execution_count": 32,
   "metadata": {
    "scrolled": true
   },
   "outputs": [
    {
     "data": {
      "text/html": [
       "<div>\n",
       "<style scoped>\n",
       "    .dataframe tbody tr th:only-of-type {\n",
       "        vertical-align: middle;\n",
       "    }\n",
       "\n",
       "    .dataframe tbody tr th {\n",
       "        vertical-align: top;\n",
       "    }\n",
       "\n",
       "    .dataframe thead th {\n",
       "        text-align: right;\n",
       "    }\n",
       "</style>\n",
       "<table border=\"1\" class=\"dataframe\">\n",
       "  <thead>\n",
       "    <tr style=\"text-align: right;\">\n",
       "      <th></th>\n",
       "      <th>Order Date</th>\n",
       "      <th>Brand</th>\n",
       "      <th>Sneaker Name</th>\n",
       "      <th>Sale Price</th>\n",
       "      <th>Retail Price</th>\n",
       "      <th>Release Date</th>\n",
       "      <th>Shoe Size</th>\n",
       "      <th>Buyer Region</th>\n",
       "      <th>Profit Margin</th>\n",
       "      <th>Profit</th>\n",
       "    </tr>\n",
       "  </thead>\n",
       "  <tbody>\n",
       "    <tr>\n",
       "      <td>0</td>\n",
       "      <td>2017-09-01</td>\n",
       "      <td>Yeezy</td>\n",
       "      <td>Adidas-Yeezy-Boost-350-Low-V2-Beluga</td>\n",
       "      <td>1097.0</td>\n",
       "      <td>220</td>\n",
       "      <td>2016-09-24</td>\n",
       "      <td>11.0</td>\n",
       "      <td>California</td>\n",
       "      <td>0.7995</td>\n",
       "      <td>877.0</td>\n",
       "    </tr>\n",
       "    <tr>\n",
       "      <td>1</td>\n",
       "      <td>2017-09-01</td>\n",
       "      <td>Yeezy</td>\n",
       "      <td>Adidas-Yeezy-Boost-350-V2-Core-Black-Copper</td>\n",
       "      <td>685.0</td>\n",
       "      <td>220</td>\n",
       "      <td>2016-11-23</td>\n",
       "      <td>11.0</td>\n",
       "      <td>California</td>\n",
       "      <td>0.6788</td>\n",
       "      <td>465.0</td>\n",
       "    </tr>\n",
       "    <tr>\n",
       "      <td>2</td>\n",
       "      <td>2017-09-01</td>\n",
       "      <td>Yeezy</td>\n",
       "      <td>Adidas-Yeezy-Boost-350-V2-Core-Black-Green</td>\n",
       "      <td>690.0</td>\n",
       "      <td>220</td>\n",
       "      <td>2016-11-23</td>\n",
       "      <td>11.0</td>\n",
       "      <td>California</td>\n",
       "      <td>0.6812</td>\n",
       "      <td>470.0</td>\n",
       "    </tr>\n",
       "    <tr>\n",
       "      <td>3</td>\n",
       "      <td>2017-09-01</td>\n",
       "      <td>Yeezy</td>\n",
       "      <td>Adidas-Yeezy-Boost-350-V2-Core-Black-Red</td>\n",
       "      <td>1075.0</td>\n",
       "      <td>220</td>\n",
       "      <td>2016-11-23</td>\n",
       "      <td>11.5</td>\n",
       "      <td>Kentucky</td>\n",
       "      <td>0.7953</td>\n",
       "      <td>855.0</td>\n",
       "    </tr>\n",
       "    <tr>\n",
       "      <td>4</td>\n",
       "      <td>2017-09-01</td>\n",
       "      <td>Yeezy</td>\n",
       "      <td>Adidas-Yeezy-Boost-350-V2-Core-Black-Red-2017</td>\n",
       "      <td>828.0</td>\n",
       "      <td>220</td>\n",
       "      <td>2017-02-11</td>\n",
       "      <td>11.0</td>\n",
       "      <td>Rhode Island</td>\n",
       "      <td>0.7343</td>\n",
       "      <td>608.0</td>\n",
       "    </tr>\n",
       "  </tbody>\n",
       "</table>\n",
       "</div>"
      ],
      "text/plain": [
       "  Order Date   Brand                                   Sneaker Name  \\\n",
       "0 2017-09-01   Yeezy           Adidas-Yeezy-Boost-350-Low-V2-Beluga   \n",
       "1 2017-09-01   Yeezy    Adidas-Yeezy-Boost-350-V2-Core-Black-Copper   \n",
       "2 2017-09-01   Yeezy     Adidas-Yeezy-Boost-350-V2-Core-Black-Green   \n",
       "3 2017-09-01   Yeezy       Adidas-Yeezy-Boost-350-V2-Core-Black-Red   \n",
       "4 2017-09-01   Yeezy  Adidas-Yeezy-Boost-350-V2-Core-Black-Red-2017   \n",
       "\n",
       "   Sale Price  Retail Price Release Date  Shoe Size  Buyer Region  \\\n",
       "0      1097.0           220   2016-09-24       11.0    California   \n",
       "1       685.0           220   2016-11-23       11.0    California   \n",
       "2       690.0           220   2016-11-23       11.0    California   \n",
       "3      1075.0           220   2016-11-23       11.5      Kentucky   \n",
       "4       828.0           220   2017-02-11       11.0  Rhode Island   \n",
       "\n",
       "   Profit Margin  Profit  \n",
       "0         0.7995   877.0  \n",
       "1         0.6788   465.0  \n",
       "2         0.6812   470.0  \n",
       "3         0.7953   855.0  \n",
       "4         0.7343   608.0  "
      ]
     },
     "execution_count": 32,
     "metadata": {},
     "output_type": "execute_result"
    }
   ],
   "source": [
    "df.head()"
   ]
  },
  {
   "cell_type": "markdown",
   "metadata": {},
   "source": [
    "What shoes were bought under retail?"
   ]
  },
  {
   "cell_type": "code",
   "execution_count": 35,
   "metadata": {},
   "outputs": [],
   "source": [
    "Loss = df[df['Profit']< 0]"
   ]
  },
  {
   "cell_type": "markdown",
   "metadata": {},
   "source": [
    "What brand had a loss?"
   ]
  },
  {
   "cell_type": "code",
   "execution_count": 36,
   "metadata": {},
   "outputs": [
    {
     "data": {
      "text/plain": [
       "array([' Yeezy'], dtype=object)"
      ]
     },
     "execution_count": 36,
     "metadata": {},
     "output_type": "execute_result"
    }
   ],
   "source": [
    "Loss['Brand'].unique()"
   ]
  },
  {
   "cell_type": "markdown",
   "metadata": {},
   "source": [
    "What shoes were undervalued?"
   ]
  },
  {
   "cell_type": "code",
   "execution_count": 37,
   "metadata": {},
   "outputs": [
    {
     "data": {
      "text/plain": [
       "array(['Adidas-Yeezy-Boost-350-V2-Cream-White',\n",
       "       'adidas-Yeezy-Boost-350-V2-Butter',\n",
       "       'Adidas-Yeezy-Boost-350-V2-Sesame',\n",
       "       'Adidas-Yeezy-Boost-350-V2-Beluga-2pt0',\n",
       "       'Adidas-Yeezy-Boost-350-V2-Semi-Frozen-Yellow'], dtype=object)"
      ]
     },
     "execution_count": 37,
     "metadata": {},
     "output_type": "execute_result"
    }
   ],
   "source": [
    "Loss['Sneaker Name'].unique()"
   ]
  },
  {
   "cell_type": "code",
   "execution_count": 232,
   "metadata": {},
   "outputs": [
    {
     "data": {
      "text/plain": [
       "Text(0, 0.5, 'Quantity')"
      ]
     },
     "execution_count": 232,
     "metadata": {},
     "output_type": "execute_result"
    },
    {
     "data": {
      "image/png": "[encoded data removed]",
      "text/plain": [
       "<Figure size 720x432 with 1 Axes>"
      ]
     },
     "metadata": {
      "needs_background": "light"
     },
     "output_type": "display_data"
    }
   ],
   "source": [
    "\n",
    "fig,ax = plt.subplots(figsize = (10,6))\n",
    "ax.bar(brand,brand_count )\n",
    "ax.set_xlabel('Brand')\n",
    "ax.set_ylabel('Quantity')"
   ]
  },
  {
   "cell_type": "code",
   "execution_count": 235,
   "metadata": {
    "scrolled": true
   },
   "outputs": [
    {
     "data": {
      "image/png": "[encoded data removed]",
      "text/plain": [
       "<Figure size 1008x864 with 6 Axes>"
      ]
     },
     "metadata": {
      "needs_background": "light"
     },
     "output_type": "display_data"
    }
   ],
   "source": [
    "df.hist(figsize = (14,12), bins = 20);\n"
   ]
  },
  {
   "cell_type": "code",
   "execution_count": 187,
   "metadata": {},
   "outputs": [
    {
     "data": {
      "text/html": [
       "<div>\n",
       "<style scoped>\n",
       "    .dataframe tbody tr th:only-of-type {\n",
       "        vertical-align: middle;\n",
       "    }\n",
       "\n",
       "    .dataframe tbody tr th {\n",
       "        vertical-align: top;\n",
       "    }\n",
       "\n",
       "    .dataframe thead th {\n",
       "        text-align: right;\n",
       "    }\n",
       "</style>\n",
       "<table border=\"1\" class=\"dataframe\">\n",
       "  <thead>\n",
       "    <tr style=\"text-align: right;\">\n",
       "      <th></th>\n",
       "      <th>Order Date</th>\n",
       "      <th>Brand</th>\n",
       "      <th>Sneaker Name</th>\n",
       "      <th>Sale Price</th>\n",
       "      <th>Retail Price</th>\n",
       "      <th>Release Date</th>\n",
       "      <th>Shoe Size</th>\n",
       "      <th>Buyer Region</th>\n",
       "      <th>Profit Margin</th>\n",
       "      <th>Profit</th>\n",
       "      <th>region</th>\n",
       "    </tr>\n",
       "  </thead>\n",
       "  <tbody>\n",
       "    <tr>\n",
       "      <td>0</td>\n",
       "      <td>2017-09-01</td>\n",
       "      <td>Yeezy</td>\n",
       "      <td>Adidas-Yeezy-Boost-350-Low-V2-Beluga</td>\n",
       "      <td>1097.0</td>\n",
       "      <td>220</td>\n",
       "      <td>2016-09-24</td>\n",
       "      <td>11.0</td>\n",
       "      <td>California</td>\n",
       "      <td>0.7995</td>\n",
       "      <td>877.0</td>\n",
       "      <td>West</td>\n",
       "    </tr>\n",
       "    <tr>\n",
       "      <td>1</td>\n",
       "      <td>2017-09-01</td>\n",
       "      <td>Yeezy</td>\n",
       "      <td>Adidas-Yeezy-Boost-350-V2-Core-Black-Copper</td>\n",
       "      <td>685.0</td>\n",
       "      <td>220</td>\n",
       "      <td>2016-11-23</td>\n",
       "      <td>11.0</td>\n",
       "      <td>California</td>\n",
       "      <td>0.6788</td>\n",
       "      <td>465.0</td>\n",
       "      <td>West</td>\n",
       "    </tr>\n",
       "    <tr>\n",
       "      <td>2</td>\n",
       "      <td>2017-09-01</td>\n",
       "      <td>Yeezy</td>\n",
       "      <td>Adidas-Yeezy-Boost-350-V2-Core-Black-Green</td>\n",
       "      <td>690.0</td>\n",
       "      <td>220</td>\n",
       "      <td>2016-11-23</td>\n",
       "      <td>11.0</td>\n",
       "      <td>California</td>\n",
       "      <td>0.6812</td>\n",
       "      <td>470.0</td>\n",
       "      <td>West</td>\n",
       "    </tr>\n",
       "    <tr>\n",
       "      <td>3</td>\n",
       "      <td>2017-09-01</td>\n",
       "      <td>Yeezy</td>\n",
       "      <td>Adidas-Yeezy-Boost-350-V2-Core-Black-Red</td>\n",
       "      <td>1075.0</td>\n",
       "      <td>220</td>\n",
       "      <td>2016-11-23</td>\n",
       "      <td>11.5</td>\n",
       "      <td>Kentucky</td>\n",
       "      <td>0.7953</td>\n",
       "      <td>855.0</td>\n",
       "      <td>South</td>\n",
       "    </tr>\n",
       "    <tr>\n",
       "      <td>4</td>\n",
       "      <td>2017-09-01</td>\n",
       "      <td>Yeezy</td>\n",
       "      <td>Adidas-Yeezy-Boost-350-V2-Core-Black-Red-2017</td>\n",
       "      <td>828.0</td>\n",
       "      <td>220</td>\n",
       "      <td>2017-02-11</td>\n",
       "      <td>11.0</td>\n",
       "      <td>Rhode Island</td>\n",
       "      <td>0.7343</td>\n",
       "      <td>608.0</td>\n",
       "      <td>Northeast</td>\n",
       "    </tr>\n",
       "  </tbody>\n",
       "</table>\n",
       "</div>"
      ],
      "text/plain": [
       "  Order Date   Brand                                   Sneaker Name  \\\n",
       "0 2017-09-01   Yeezy           Adidas-Yeezy-Boost-350-Low-V2-Beluga   \n",
       "1 2017-09-01   Yeezy    Adidas-Yeezy-Boost-350-V2-Core-Black-Copper   \n",
       "2 2017-09-01   Yeezy     Adidas-Yeezy-Boost-350-V2-Core-Black-Green   \n",
       "3 2017-09-01   Yeezy       Adidas-Yeezy-Boost-350-V2-Core-Black-Red   \n",
       "4 2017-09-01   Yeezy  Adidas-Yeezy-Boost-350-V2-Core-Black-Red-2017   \n",
       "\n",
       "   Sale Price  Retail Price Release Date  Shoe Size  Buyer Region  \\\n",
       "0      1097.0           220   2016-09-24       11.0    California   \n",
       "1       685.0           220   2016-11-23       11.0    California   \n",
       "2       690.0           220   2016-11-23       11.0    California   \n",
       "3      1075.0           220   2016-11-23       11.5      Kentucky   \n",
       "4       828.0           220   2017-02-11       11.0  Rhode Island   \n",
       "\n",
       "   Profit Margin  Profit     region  \n",
       "0         0.7995   877.0       West  \n",
       "1         0.6788   465.0       West  \n",
       "2         0.6812   470.0       West  \n",
       "3         0.7953   855.0      South  \n",
       "4         0.7343   608.0  Northeast  "
      ]
     },
     "execution_count": 187,
     "metadata": {},
     "output_type": "execute_result"
    }
   ],
   "source": [
    "df['region'] = df['Buyer Region'].apply(lambda x : region(x) )\n",
    "df.head()"
   ]
  },
  {
   "cell_type": "code",
   "execution_count": 186,
   "metadata": {},
   "outputs": [],
   "source": [
    "def region(x):\n",
    "    region = {0:['Arizona', 'Colorodo', 'Idaho', 'Montana', 'Nevada', 'New Mexico', 'Utah', 'Wyoming', 'Alaska', 'California', 'Hawaii','Oregon', 'Washington'], 1: ['Deleware', 'Florida', 'Georgia', 'Maryland', 'North Carolina', 'South Carolina', 'Virginia', 'District of Columbia', 'West Virginia','Alabama', 'Kentucky','Mississippi','Tennessee','Arkansas', 'Louisiana','Oklahoma','Texas'],2: ['Illinois', 'Indiana', 'Michigan', 'Ohio', 'Wisconsin','Iowa', 'Kansas','Minnesota','Missouri','Nebraska', 'North Dakota', 'South Dakota'], 3: ['Connecticut', 'Maine', 'Massachusetts', 'New Hampshire', 'Rhode Island', 'Vermont', 'New Jersey', 'New York', 'Pennsylvania']} \n",
    "    numerical = {0: 'West', 1:'South', 2: 'Midwest', 3:'Northeast'}\n",
    "    if x in region[0]:\n",
    "        return numerical[0]\n",
    "    elif x in region[1]:\n",
    "        return numerical[1]\n",
    "    elif x in region[2]:\n",
    "        return numerical[2]\n",
    "    else:\n",
    "        return numerical[3]"
   ]
  },
  {
   "cell_type": "code",
   "execution_count": 233,
   "metadata": {},
   "outputs": [
    {
     "data": {
      "text/plain": [
       "False"
      ]
     },
     "execution_count": 233,
     "metadata": {},
     "output_type": "execute_result"
    }
   ],
   "source": [
    "df.isnull().values.any()"
   ]
  },
  {
   "cell_type": "code",
   "execution_count": 287,
   "metadata": {},
   "outputs": [],
   "source": [
    "def bar_plot(x, y, x_label, y_label,color = False horizontal = False):\n",
    "\t\tfig,ax = plt.subplots(figsize = (10,6))\n",
    "\t\tif horizontal:\n",
    "\t\t\tax.barh(x,y, align = 'center')\n",
    "\t\t\tax.set_xlabel(x_label)\n",
    "\t\t\tax.set_ylabel(y_label)\n",
    "\t\telse:\n",
    "\t\t\tax.bar(x,y, width = .35)\n",
    "\t\t\tax.set_xlabel(x_label)\n",
    "\t\t\tax.set_ylabel(y_label)\n",
    "        \n"
   ]
  },
  {
   "cell_type": "code",
   "execution_count": 278,
   "metadata": {
    "scrolled": true
   },
   "outputs": [
    {
     "data": {
      "image/png": "[encoded data removed]",
      "text/plain": [
       "<Figure size 720x432 with 1 Axes>"
      ]
     },
     "metadata": {},
     "output_type": "display_data"
    }
   ],
   "source": [
    "total = df['region'].value_counts()\n",
    "fig, ax = plt.subplots(figsize = (10,6))\n",
    "ax.bar(total.index,total, width = .35)\n",
    "ax.grid(False)\n"
   ]
  },
  {
   "cell_type": "markdown",
   "metadata": {},
   "source": [
    "Purchasing by Region"
   ]
  },
  {
   "cell_type": "code",
   "execution_count": 290,
   "metadata": {},
   "outputs": [
    {
     "data": {
      "image/png": "[encoded data removed]",
      "text/plain": [
       "<Figure size 720x432 with 1 Axes>"
      ]
     },
     "metadata": {
      "needs_background": "light"
     },
     "output_type": "display_data"
    }
   ],
   "source": [
    "bar_plot(total.index,total,'quantity', 'region', horizontal = True)\n"
   ]
  },
  {
   "cell_type": "code",
   "execution_count": 292,
   "metadata": {
    "scrolled": false
   },
   "outputs": [
    {
     "data": {
      "image/png": "[encoded data removed]",
      "text/plain": [
       "<Figure size 720x432 with 1 Axes>"
      ]
     },
     "metadata": {
      "needs_background": "light"
     },
     "output_type": "display_data"
    }
   ],
   "source": [
    "buyer_quantity = df['Buyer Region'].value_counts()\n",
    "bar_plot(buyer_quantity.index, buyer_quantity,'quantity', 'buyer region', horizontal = True)"
   ]
  },
  {
   "cell_type": "markdown",
   "metadata": {},
   "source": [
    "Top 5 States Purchasing"
   ]
  },
  {
   "cell_type": "code",
   "execution_count": 504,
   "metadata": {
    "scrolled": true
   },
   "outputs": [
    {
     "data": {
      "image/png": "[encoded data removed]",
      "text/plain": [
       "<Figure size 720x432 with 1 Axes>"
      ]
     },
     "metadata": {
      "needs_background": "light"
     },
     "output_type": "display_data"
    }
   ],
   "source": [
    "top_5 = buyer_quantity.head(5)\n",
    "bar_plot(top_5.index, top_5, 'quantity', 'buyer state', horizontal = True)"
   ]
  },
  {
   "cell_type": "markdown",
   "metadata": {},
   "source": [
    "Spending by region and state"
   ]
  },
  {
   "cell_type": "code",
   "execution_count": 553,
   "metadata": {
    "scrolled": true
   },
   "outputs": [
    {
     "data": {
      "text/plain": [
       "Buyer Region\n",
       "West         1.528840e+07\n",
       "Northeast    1.382559e+07\n",
       "South        1.005708e+07\n",
       "Midwest      5.472745e+06\n",
       "Name: Sale Price, dtype: float64"
      ]
     },
     "execution_count": 553,
     "metadata": {},
     "output_type": "execute_result"
    }
   ],
   "source": [
    "buyer_region_spending = df.groupby('Buyer Region')['Sale Price'].sum().sort_values(ascending= False)\n",
    "buyer_region_spending"
   ]
  },
  {
   "cell_type": "code",
   "execution_count": 554,
   "metadata": {},
   "outputs": [
    {
     "data": {
      "image/png": "[encoded data removed]",
      "text/plain": [
       "<Figure size 720x432 with 1 Axes>"
      ]
     },
     "metadata": {
      "needs_background": "light"
     },
     "output_type": "display_data"
    }
   ],
   "source": [
    "bar_plot(buyer_region_spending.index, buyer_region_spending, 'Region', 'Amount Spent')"
   ]
  },
  {
   "cell_type": "code",
   "execution_count": 312,
   "metadata": {},
   "outputs": [],
   "source": [
    "df.rename(columns = {'Buyer Region': 'Buyer State', 'region': 'Buyer Region'}, inplace = True)"
   ]
  },
  {
   "cell_type": "code",
   "execution_count": 322,
   "metadata": {},
   "outputs": [
    {
     "data": {
      "text/html": [
       "<div>\n",
       "<style scoped>\n",
       "    .dataframe tbody tr th:only-of-type {\n",
       "        vertical-align: middle;\n",
       "    }\n",
       "\n",
       "    .dataframe tbody tr th {\n",
       "        vertical-align: top;\n",
       "    }\n",
       "\n",
       "    .dataframe thead th {\n",
       "        text-align: right;\n",
       "    }\n",
       "</style>\n",
       "<table border=\"1\" class=\"dataframe\">\n",
       "  <thead>\n",
       "    <tr style=\"text-align: right;\">\n",
       "      <th></th>\n",
       "      <th>Order Date</th>\n",
       "      <th>Release Date</th>\n",
       "      <th>Brand</th>\n",
       "      <th>Sneaker Name</th>\n",
       "      <th>Retail Price</th>\n",
       "      <th>Sale Price</th>\n",
       "      <th>Profit</th>\n",
       "      <th>Profit Margin</th>\n",
       "      <th>Shoe Size</th>\n",
       "      <th>Buyer State</th>\n",
       "      <th>Buyer Region</th>\n",
       "    </tr>\n",
       "  </thead>\n",
       "  <tbody>\n",
       "    <tr>\n",
       "      <td>0</td>\n",
       "      <td>2017-09-01</td>\n",
       "      <td>2016-09-24</td>\n",
       "      <td>Yeezy</td>\n",
       "      <td>Adidas-Yeezy-Boost-350-Low-V2-Beluga</td>\n",
       "      <td>220</td>\n",
       "      <td>1097.0</td>\n",
       "      <td>877.0</td>\n",
       "      <td>0.7995</td>\n",
       "      <td>11.0</td>\n",
       "      <td>California</td>\n",
       "      <td>West</td>\n",
       "    </tr>\n",
       "    <tr>\n",
       "      <td>1</td>\n",
       "      <td>2017-09-01</td>\n",
       "      <td>2016-11-23</td>\n",
       "      <td>Yeezy</td>\n",
       "      <td>Adidas-Yeezy-Boost-350-V2-Core-Black-Copper</td>\n",
       "      <td>220</td>\n",
       "      <td>685.0</td>\n",
       "      <td>465.0</td>\n",
       "      <td>0.6788</td>\n",
       "      <td>11.0</td>\n",
       "      <td>California</td>\n",
       "      <td>West</td>\n",
       "    </tr>\n",
       "    <tr>\n",
       "      <td>2</td>\n",
       "      <td>2017-09-01</td>\n",
       "      <td>2016-11-23</td>\n",
       "      <td>Yeezy</td>\n",
       "      <td>Adidas-Yeezy-Boost-350-V2-Core-Black-Green</td>\n",
       "      <td>220</td>\n",
       "      <td>690.0</td>\n",
       "      <td>470.0</td>\n",
       "      <td>0.6812</td>\n",
       "      <td>11.0</td>\n",
       "      <td>California</td>\n",
       "      <td>West</td>\n",
       "    </tr>\n",
       "    <tr>\n",
       "      <td>3</td>\n",
       "      <td>2017-09-01</td>\n",
       "      <td>2016-11-23</td>\n",
       "      <td>Yeezy</td>\n",
       "      <td>Adidas-Yeezy-Boost-350-V2-Core-Black-Red</td>\n",
       "      <td>220</td>\n",
       "      <td>1075.0</td>\n",
       "      <td>855.0</td>\n",
       "      <td>0.7953</td>\n",
       "      <td>11.5</td>\n",
       "      <td>Kentucky</td>\n",
       "      <td>South</td>\n",
       "    </tr>\n",
       "    <tr>\n",
       "      <td>4</td>\n",
       "      <td>2017-09-01</td>\n",
       "      <td>2017-02-11</td>\n",
       "      <td>Yeezy</td>\n",
       "      <td>Adidas-Yeezy-Boost-350-V2-Core-Black-Red-2017</td>\n",
       "      <td>220</td>\n",
       "      <td>828.0</td>\n",
       "      <td>608.0</td>\n",
       "      <td>0.7343</td>\n",
       "      <td>11.0</td>\n",
       "      <td>Rhode Island</td>\n",
       "      <td>Northeast</td>\n",
       "    </tr>\n",
       "    <tr>\n",
       "      <td>...</td>\n",
       "      <td>...</td>\n",
       "      <td>...</td>\n",
       "      <td>...</td>\n",
       "      <td>...</td>\n",
       "      <td>...</td>\n",
       "      <td>...</td>\n",
       "      <td>...</td>\n",
       "      <td>...</td>\n",
       "      <td>...</td>\n",
       "      <td>...</td>\n",
       "      <td>...</td>\n",
       "    </tr>\n",
       "    <tr>\n",
       "      <td>99951</td>\n",
       "      <td>2019-02-13</td>\n",
       "      <td>2018-12-26</td>\n",
       "      <td>Yeezy</td>\n",
       "      <td>adidas-Yeezy-Boost-350-V2-Static-Reflective</td>\n",
       "      <td>220</td>\n",
       "      <td>565.0</td>\n",
       "      <td>345.0</td>\n",
       "      <td>0.6106</td>\n",
       "      <td>8.0</td>\n",
       "      <td>Oregon</td>\n",
       "      <td>West</td>\n",
       "    </tr>\n",
       "    <tr>\n",
       "      <td>99952</td>\n",
       "      <td>2019-02-13</td>\n",
       "      <td>2018-12-26</td>\n",
       "      <td>Yeezy</td>\n",
       "      <td>adidas-Yeezy-Boost-350-V2-Static-Reflective</td>\n",
       "      <td>220</td>\n",
       "      <td>598.0</td>\n",
       "      <td>378.0</td>\n",
       "      <td>0.6321</td>\n",
       "      <td>8.5</td>\n",
       "      <td>California</td>\n",
       "      <td>West</td>\n",
       "    </tr>\n",
       "    <tr>\n",
       "      <td>99953</td>\n",
       "      <td>2019-02-13</td>\n",
       "      <td>2018-12-26</td>\n",
       "      <td>Yeezy</td>\n",
       "      <td>adidas-Yeezy-Boost-350-V2-Static-Reflective</td>\n",
       "      <td>220</td>\n",
       "      <td>605.0</td>\n",
       "      <td>385.0</td>\n",
       "      <td>0.6364</td>\n",
       "      <td>5.5</td>\n",
       "      <td>New York</td>\n",
       "      <td>Northeast</td>\n",
       "    </tr>\n",
       "    <tr>\n",
       "      <td>99954</td>\n",
       "      <td>2019-02-13</td>\n",
       "      <td>2018-12-26</td>\n",
       "      <td>Yeezy</td>\n",
       "      <td>adidas-Yeezy-Boost-350-V2-Static-Reflective</td>\n",
       "      <td>220</td>\n",
       "      <td>650.0</td>\n",
       "      <td>430.0</td>\n",
       "      <td>0.6615</td>\n",
       "      <td>11.0</td>\n",
       "      <td>California</td>\n",
       "      <td>West</td>\n",
       "    </tr>\n",
       "    <tr>\n",
       "      <td>99955</td>\n",
       "      <td>2019-02-13</td>\n",
       "      <td>2018-12-26</td>\n",
       "      <td>Yeezy</td>\n",
       "      <td>adidas-Yeezy-Boost-350-V2-Static-Reflective</td>\n",
       "      <td>220</td>\n",
       "      <td>640.0</td>\n",
       "      <td>420.0</td>\n",
       "      <td>0.6562</td>\n",
       "      <td>11.5</td>\n",
       "      <td>Texas</td>\n",
       "      <td>South</td>\n",
       "    </tr>\n",
       "  </tbody>\n",
       "</table>\n",
       "<p>99956 rows × 11 columns</p>\n",
       "</div>"
      ],
      "text/plain": [
       "      Order Date Release Date   Brand  \\\n",
       "0     2017-09-01   2016-09-24   Yeezy   \n",
       "1     2017-09-01   2016-11-23   Yeezy   \n",
       "2     2017-09-01   2016-11-23   Yeezy   \n",
       "3     2017-09-01   2016-11-23   Yeezy   \n",
       "4     2017-09-01   2017-02-11   Yeezy   \n",
       "...          ...          ...     ...   \n",
       "99951 2019-02-13   2018-12-26   Yeezy   \n",
       "99952 2019-02-13   2018-12-26   Yeezy   \n",
       "99953 2019-02-13   2018-12-26   Yeezy   \n",
       "99954 2019-02-13   2018-12-26   Yeezy   \n",
       "99955 2019-02-13   2018-12-26   Yeezy   \n",
       "\n",
       "                                        Sneaker Name  Retail Price  \\\n",
       "0               Adidas-Yeezy-Boost-350-Low-V2-Beluga           220   \n",
       "1        Adidas-Yeezy-Boost-350-V2-Core-Black-Copper           220   \n",
       "2         Adidas-Yeezy-Boost-350-V2-Core-Black-Green           220   \n",
       "3           Adidas-Yeezy-Boost-350-V2-Core-Black-Red           220   \n",
       "4      Adidas-Yeezy-Boost-350-V2-Core-Black-Red-2017           220   \n",
       "...                                              ...           ...   \n",
       "99951    adidas-Yeezy-Boost-350-V2-Static-Reflective           220   \n",
       "99952    adidas-Yeezy-Boost-350-V2-Static-Reflective           220   \n",
       "99953    adidas-Yeezy-Boost-350-V2-Static-Reflective           220   \n",
       "99954    adidas-Yeezy-Boost-350-V2-Static-Reflective           220   \n",
       "99955    adidas-Yeezy-Boost-350-V2-Static-Reflective           220   \n",
       "\n",
       "       Sale Price  Profit  Profit Margin  Shoe Size   Buyer State Buyer Region  \n",
       "0          1097.0   877.0         0.7995       11.0    California         West  \n",
       "1           685.0   465.0         0.6788       11.0    California         West  \n",
       "2           690.0   470.0         0.6812       11.0    California         West  \n",
       "3          1075.0   855.0         0.7953       11.5      Kentucky        South  \n",
       "4           828.0   608.0         0.7343       11.0  Rhode Island    Northeast  \n",
       "...           ...     ...            ...        ...           ...          ...  \n",
       "99951       565.0   345.0         0.6106        8.0        Oregon         West  \n",
       "99952       598.0   378.0         0.6321        8.5    California         West  \n",
       "99953       605.0   385.0         0.6364        5.5      New York    Northeast  \n",
       "99954       650.0   430.0         0.6615       11.0    California         West  \n",
       "99955       640.0   420.0         0.6562       11.5         Texas        South  \n",
       "\n",
       "[99956 rows x 11 columns]"
      ]
     },
     "execution_count": 322,
     "metadata": {},
     "output_type": "execute_result"
    }
   ],
   "source": []
  },
  {
   "cell_type": "code",
   "execution_count": 316,
   "metadata": {},
   "outputs": [],
   "source": [
    "df= df[['Order Date','Release Date', 'Brand', 'Sneaker Name', 'Retail Price', 'Sale Price','Profit','Profit Margin','Shoe Size','Buyer State', 'Buyer Region']]"
   ]
  },
  {
   "cell_type": "code",
   "execution_count": 321,
   "metadata": {},
   "outputs": [
    {
     "data": {
      "text/html": [
       "<div>\n",
       "<style scoped>\n",
       "    .dataframe tbody tr th:only-of-type {\n",
       "        vertical-align: middle;\n",
       "    }\n",
       "\n",
       "    .dataframe tbody tr th {\n",
       "        vertical-align: top;\n",
       "    }\n",
       "\n",
       "    .dataframe thead th {\n",
       "        text-align: right;\n",
       "    }\n",
       "</style>\n",
       "<table border=\"1\" class=\"dataframe\">\n",
       "  <thead>\n",
       "    <tr style=\"text-align: right;\">\n",
       "      <th></th>\n",
       "      <th>Order Date</th>\n",
       "      <th>Release Date</th>\n",
       "      <th>Brand</th>\n",
       "      <th>Sneaker Name</th>\n",
       "      <th>Retail Price</th>\n",
       "      <th>Sale Price</th>\n",
       "      <th>Profit</th>\n",
       "      <th>Profit Margin</th>\n",
       "      <th>Shoe Size</th>\n",
       "      <th>Buyer State</th>\n",
       "      <th>Buyer Region</th>\n",
       "    </tr>\n",
       "  </thead>\n",
       "  <tbody>\n",
       "    <tr>\n",
       "      <td>0</td>\n",
       "      <td>2017-09-01</td>\n",
       "      <td>2016-09-24</td>\n",
       "      <td>Yeezy</td>\n",
       "      <td>Adidas-Yeezy-Boost-350-Low-V2-Beluga</td>\n",
       "      <td>220</td>\n",
       "      <td>1097.0</td>\n",
       "      <td>877.0</td>\n",
       "      <td>0.7995</td>\n",
       "      <td>11.0</td>\n",
       "      <td>California</td>\n",
       "      <td>West</td>\n",
       "    </tr>\n",
       "    <tr>\n",
       "      <td>1</td>\n",
       "      <td>2017-09-01</td>\n",
       "      <td>2016-11-23</td>\n",
       "      <td>Yeezy</td>\n",
       "      <td>Adidas-Yeezy-Boost-350-V2-Core-Black-Copper</td>\n",
       "      <td>220</td>\n",
       "      <td>685.0</td>\n",
       "      <td>465.0</td>\n",
       "      <td>0.6788</td>\n",
       "      <td>11.0</td>\n",
       "      <td>California</td>\n",
       "      <td>West</td>\n",
       "    </tr>\n",
       "    <tr>\n",
       "      <td>2</td>\n",
       "      <td>2017-09-01</td>\n",
       "      <td>2016-11-23</td>\n",
       "      <td>Yeezy</td>\n",
       "      <td>Adidas-Yeezy-Boost-350-V2-Core-Black-Green</td>\n",
       "      <td>220</td>\n",
       "      <td>690.0</td>\n",
       "      <td>470.0</td>\n",
       "      <td>0.6812</td>\n",
       "      <td>11.0</td>\n",
       "      <td>California</td>\n",
       "      <td>West</td>\n",
       "    </tr>\n",
       "    <tr>\n",
       "      <td>3</td>\n",
       "      <td>2017-09-01</td>\n",
       "      <td>2016-11-23</td>\n",
       "      <td>Yeezy</td>\n",
       "      <td>Adidas-Yeezy-Boost-350-V2-Core-Black-Red</td>\n",
       "      <td>220</td>\n",
       "      <td>1075.0</td>\n",
       "      <td>855.0</td>\n",
       "      <td>0.7953</td>\n",
       "      <td>11.5</td>\n",
       "      <td>Kentucky</td>\n",
       "      <td>South</td>\n",
       "    </tr>\n",
       "    <tr>\n",
       "      <td>4</td>\n",
       "      <td>2017-09-01</td>\n",
       "      <td>2017-02-11</td>\n",
       "      <td>Yeezy</td>\n",
       "      <td>Adidas-Yeezy-Boost-350-V2-Core-Black-Red-2017</td>\n",
       "      <td>220</td>\n",
       "      <td>828.0</td>\n",
       "      <td>608.0</td>\n",
       "      <td>0.7343</td>\n",
       "      <td>11.0</td>\n",
       "      <td>Rhode Island</td>\n",
       "      <td>Northeast</td>\n",
       "    </tr>\n",
       "    <tr>\n",
       "      <td>...</td>\n",
       "      <td>...</td>\n",
       "      <td>...</td>\n",
       "      <td>...</td>\n",
       "      <td>...</td>\n",
       "      <td>...</td>\n",
       "      <td>...</td>\n",
       "      <td>...</td>\n",
       "      <td>...</td>\n",
       "      <td>...</td>\n",
       "      <td>...</td>\n",
       "      <td>...</td>\n",
       "    </tr>\n",
       "    <tr>\n",
       "      <td>235</td>\n",
       "      <td>2017-09-12</td>\n",
       "      <td>2016-02-19</td>\n",
       "      <td>Yeezy</td>\n",
       "      <td>Adidas-Yeezy-Boost-350-Low-Pirate-Black-2016</td>\n",
       "      <td>200</td>\n",
       "      <td>1000.0</td>\n",
       "      <td>800.0</td>\n",
       "      <td>0.8000</td>\n",
       "      <td>10.0</td>\n",
       "      <td>Florida</td>\n",
       "      <td>South</td>\n",
       "    </tr>\n",
       "    <tr>\n",
       "      <td>236</td>\n",
       "      <td>2017-09-12</td>\n",
       "      <td>2016-09-24</td>\n",
       "      <td>Yeezy</td>\n",
       "      <td>Adidas-Yeezy-Boost-350-Low-V2-Beluga</td>\n",
       "      <td>220</td>\n",
       "      <td>985.0</td>\n",
       "      <td>765.0</td>\n",
       "      <td>0.7766</td>\n",
       "      <td>9.0</td>\n",
       "      <td>Maryland</td>\n",
       "      <td>South</td>\n",
       "    </tr>\n",
       "    <tr>\n",
       "      <td>237</td>\n",
       "      <td>2017-09-12</td>\n",
       "      <td>2016-09-24</td>\n",
       "      <td>Yeezy</td>\n",
       "      <td>Adidas-Yeezy-Boost-350-Low-V2-Beluga</td>\n",
       "      <td>220</td>\n",
       "      <td>985.0</td>\n",
       "      <td>765.0</td>\n",
       "      <td>0.7766</td>\n",
       "      <td>10.5</td>\n",
       "      <td>North Carolina</td>\n",
       "      <td>South</td>\n",
       "    </tr>\n",
       "    <tr>\n",
       "      <td>238</td>\n",
       "      <td>2017-09-12</td>\n",
       "      <td>2016-11-23</td>\n",
       "      <td>Yeezy</td>\n",
       "      <td>Adidas-Yeezy-Boost-350-V2-Core-Black-Green</td>\n",
       "      <td>220</td>\n",
       "      <td>650.0</td>\n",
       "      <td>430.0</td>\n",
       "      <td>0.6615</td>\n",
       "      <td>9.5</td>\n",
       "      <td>Oregon</td>\n",
       "      <td>West</td>\n",
       "    </tr>\n",
       "    <tr>\n",
       "      <td>239</td>\n",
       "      <td>2017-09-12</td>\n",
       "      <td>2016-11-23</td>\n",
       "      <td>Yeezy</td>\n",
       "      <td>Adidas-Yeezy-Boost-350-V2-Core-Black-Green</td>\n",
       "      <td>220</td>\n",
       "      <td>642.0</td>\n",
       "      <td>422.0</td>\n",
       "      <td>0.6573</td>\n",
       "      <td>9.5</td>\n",
       "      <td>Oregon</td>\n",
       "      <td>West</td>\n",
       "    </tr>\n",
       "  </tbody>\n",
       "</table>\n",
       "<p>240 rows × 11 columns</p>\n",
       "</div>"
      ],
      "text/plain": [
       "    Order Date Release Date   Brand  \\\n",
       "0   2017-09-01   2016-09-24   Yeezy   \n",
       "1   2017-09-01   2016-11-23   Yeezy   \n",
       "2   2017-09-01   2016-11-23   Yeezy   \n",
       "3   2017-09-01   2016-11-23   Yeezy   \n",
       "4   2017-09-01   2017-02-11   Yeezy   \n",
       "..         ...          ...     ...   \n",
       "235 2017-09-12   2016-02-19   Yeezy   \n",
       "236 2017-09-12   2016-09-24   Yeezy   \n",
       "237 2017-09-12   2016-09-24   Yeezy   \n",
       "238 2017-09-12   2016-11-23   Yeezy   \n",
       "239 2017-09-12   2016-11-23   Yeezy   \n",
       "\n",
       "                                      Sneaker Name  Retail Price  Sale Price  \\\n",
       "0             Adidas-Yeezy-Boost-350-Low-V2-Beluga           220      1097.0   \n",
       "1      Adidas-Yeezy-Boost-350-V2-Core-Black-Copper           220       685.0   \n",
       "2       Adidas-Yeezy-Boost-350-V2-Core-Black-Green           220       690.0   \n",
       "3         Adidas-Yeezy-Boost-350-V2-Core-Black-Red           220      1075.0   \n",
       "4    Adidas-Yeezy-Boost-350-V2-Core-Black-Red-2017           220       828.0   \n",
       "..                                             ...           ...         ...   \n",
       "235   Adidas-Yeezy-Boost-350-Low-Pirate-Black-2016           200      1000.0   \n",
       "236           Adidas-Yeezy-Boost-350-Low-V2-Beluga           220       985.0   \n",
       "237           Adidas-Yeezy-Boost-350-Low-V2-Beluga           220       985.0   \n",
       "238     Adidas-Yeezy-Boost-350-V2-Core-Black-Green           220       650.0   \n",
       "239     Adidas-Yeezy-Boost-350-V2-Core-Black-Green           220       642.0   \n",
       "\n",
       "     Profit  Profit Margin  Shoe Size     Buyer State Buyer Region  \n",
       "0     877.0         0.7995       11.0      California         West  \n",
       "1     465.0         0.6788       11.0      California         West  \n",
       "2     470.0         0.6812       11.0      California         West  \n",
       "3     855.0         0.7953       11.5        Kentucky        South  \n",
       "4     608.0         0.7343       11.0    Rhode Island    Northeast  \n",
       "..      ...            ...        ...             ...          ...  \n",
       "235   800.0         0.8000       10.0         Florida        South  \n",
       "236   765.0         0.7766        9.0        Maryland        South  \n",
       "237   765.0         0.7766       10.5  North Carolina        South  \n",
       "238   430.0         0.6615        9.5          Oregon         West  \n",
       "239   422.0         0.6573        9.5          Oregon         West  \n",
       "\n",
       "[240 rows x 11 columns]"
      ]
     },
     "execution_count": 321,
     "metadata": {},
     "output_type": "execute_result"
    }
   ],
   "source": [
    "df.head(240)"
   ]
  },
  {
   "cell_type": "markdown",
   "metadata": {},
   "source": [
    "Boxplots to look at distribution of columns"
   ]
  },
  {
   "cell_type": "code",
   "execution_count": 331,
   "metadata": {},
   "outputs": [
    {
     "data": {
      "text/plain": [
       "27794"
      ]
     },
     "execution_count": 331,
     "metadata": {},
     "output_type": "execute_result"
    }
   ],
   "source": [
    "sale_price_off_white = df[df['Brand']=='Off-White']['Sale Price']\n",
    "len(sale_price_off_white)"
   ]
  },
  {
   "cell_type": "code",
   "execution_count": 341,
   "metadata": {},
   "outputs": [],
   "source": [
    "df['Brand']= df['Brand'].apply(lambda x : x.replace(' ', ''))"
   ]
  },
  {
   "cell_type": "code",
   "execution_count": 345,
   "metadata": {},
   "outputs": [
    {
     "data": {
      "text/plain": [
       "72162"
      ]
     },
     "execution_count": 345,
     "metadata": {},
     "output_type": "execute_result"
    }
   ],
   "source": [
    "sale_price_yeezy = df[df['Brand']=='Yeezy']['Sale Price']\n",
    "len(sale_price_yeezy)"
   ]
  },
  {
   "cell_type": "code",
   "execution_count": 407,
   "metadata": {
    "scrolled": true
   },
   "outputs": [
    {
     "data": {
      "image/png": "[encoded data removed]",
      "text/plain": [
       "<Figure size 720x432 with 1 Axes>"
      ]
     },
     "metadata": {
      "needs_background": "light"
     },
     "output_type": "display_data"
    }
   ],
   "source": [
    "fig, ax = plt.subplots(figsize = (10,6))\n",
    "ax.boxplot([sale_price_off_white,sale_price_yeezy], showfliers = False, vert = False);\n",
    "ax.set_yticklabels(['Off-White', 'Yeezy'])\n",
    "ax.grid(False)"
   ]
  },
  {
   "cell_type": "code",
   "execution_count": 359,
   "metadata": {
    "scrolled": true
   },
   "outputs": [
    {
     "data": {
      "text/plain": [
       "count    27794.000000\n",
       "mean       671.481226\n",
       "std        334.654897\n",
       "min        203.000000\n",
       "25%        498.000000\n",
       "50%        610.000000\n",
       "75%        770.000000\n",
       "max       4050.000000\n",
       "Name: Sale Price, dtype: float64"
      ]
     },
     "execution_count": 359,
     "metadata": {},
     "output_type": "execute_result"
    }
   ],
   "source": [
    "sale_price_off_white.describe()"
   ]
  },
  {
   "cell_type": "code",
   "execution_count": 369,
   "metadata": {
    "scrolled": true
   },
   "outputs": [
    {
     "name": "stdout",
     "output_type": "stream",
     "text": [
      "90.0\n",
      "1178.0\n"
     ]
    }
   ],
   "source": [
    "ow_iqr = 770-498\n",
    "off_white_upper_outlier =770+(1.5*ow_iqr)\n",
    "off_white_lower_outlier = 498 -(1.5*ow_iqr)\n",
    "print(off_white_lower_outlier)\n",
    "print(off_white_upper_outlier)"
   ]
  },
  {
   "cell_type": "markdown",
   "metadata": {},
   "source": [
    "How many outliers are there for Off-White shoes?"
   ]
  },
  {
   "cell_type": "code",
   "execution_count": 385,
   "metadata": {},
   "outputs": [
    {
     "data": {
      "text/plain": [
       "1674"
      ]
     },
     "execution_count": 385,
     "metadata": {},
     "output_type": "execute_result"
    }
   ],
   "source": [
    "off_white_sale_price_outliers =  df[(df['Sale Price'] <= 90) | (df['Sale Price'] >= 1178)]\n",
    "off_white_sale_price_outliers = off_white_sale_price_outliers[off_white_sale_price_outliers['Brand']=='Off-White']\n",
    "off_white_sale_price_outliers.shape[0]"
   ]
  },
  {
   "cell_type": "code",
   "execution_count": 386,
   "metadata": {
    "scrolled": true
   },
   "outputs": [
    {
     "data": {
      "text/plain": [
       "array(['Nike-Air-Max-90-Off-White', 'Nike-Air-Presto-Off-White',\n",
       "       'Nike-Air-VaporMax-Off-White',\n",
       "       'Air-Jordan-1-Retro-High-Off-White-Chicago',\n",
       "       'Nike-Zoom-Fly-Off-White', 'Nike-Air-Force-1-Low-Off-White',\n",
       "       'Nike-Blazer-Mid-Off-White',\n",
       "       'Air-Jordan-1-Retro-High-Off-White-White',\n",
       "       'Nike-Air-VaporMax-Off-White-2018',\n",
       "       'Nike-Air-Force-1-Low-Virgil-Abloh-Off-White-AF100',\n",
       "       'Nike-Air-Max-97-Off-White',\n",
       "       'Air-Jordan-1-Retro-High-Off-White-University-Blue',\n",
       "       'Nike-Air-Presto-Off-White-Black-2018',\n",
       "       'Nike-Air-Presto-Off-White-White-2018',\n",
       "       'Nike-Air-Max-97-Off-White-Elemental-Rose-Queen',\n",
       "       'Nike-Blazer-Mid-Off-White-All-Hallows-Eve',\n",
       "       'Nike-Blazer-Mid-Off-White-Wolf-Grey',\n",
       "       'Nike-Air-Max-97-Off-White-Black',\n",
       "       'Nike-Air-Max-97-Off-White-Menta',\n",
       "       'Nike-Air-VaporMax-Off-White-Black'], dtype=object)"
      ]
     },
     "execution_count": 386,
     "metadata": {},
     "output_type": "execute_result"
    }
   ],
   "source": [
    "off_white_sale_price_outliers['Sneaker Name'].unique()"
   ]
  },
  {
   "cell_type": "code",
   "execution_count": 358,
   "metadata": {},
   "outputs": [
    {
     "data": {
      "text/html": [
       "<div>\n",
       "<style scoped>\n",
       "    .dataframe tbody tr th:only-of-type {\n",
       "        vertical-align: middle;\n",
       "    }\n",
       "\n",
       "    .dataframe tbody tr th {\n",
       "        vertical-align: top;\n",
       "    }\n",
       "\n",
       "    .dataframe thead th {\n",
       "        text-align: right;\n",
       "    }\n",
       "</style>\n",
       "<table border=\"1\" class=\"dataframe\">\n",
       "  <thead>\n",
       "    <tr style=\"text-align: right;\">\n",
       "      <th></th>\n",
       "      <th>Order Date</th>\n",
       "      <th>Release Date</th>\n",
       "      <th>Brand</th>\n",
       "      <th>Sneaker Name</th>\n",
       "      <th>Retail Price</th>\n",
       "      <th>Sale Price</th>\n",
       "      <th>Profit</th>\n",
       "      <th>Profit Margin</th>\n",
       "      <th>Shoe Size</th>\n",
       "      <th>Buyer State</th>\n",
       "      <th>Buyer Region</th>\n",
       "    </tr>\n",
       "  </thead>\n",
       "  <tbody>\n",
       "    <tr>\n",
       "      <td>82740</td>\n",
       "      <td>2018-12-29</td>\n",
       "      <td>2018-06-14</td>\n",
       "      <td>Off-White</td>\n",
       "      <td>Nike-Zoom-Fly-Mercurial-Off-White-Total-Orange</td>\n",
       "      <td>200</td>\n",
       "      <td>203.0</td>\n",
       "      <td>3.0</td>\n",
       "      <td>0.0148</td>\n",
       "      <td>7.0</td>\n",
       "      <td>Illinois</td>\n",
       "      <td>Midwest</td>\n",
       "    </tr>\n",
       "  </tbody>\n",
       "</table>\n",
       "</div>"
      ],
      "text/plain": [
       "      Order Date Release Date      Brand  \\\n",
       "82740 2018-12-29   2018-06-14  Off-White   \n",
       "\n",
       "                                         Sneaker Name  Retail Price  \\\n",
       "82740  Nike-Zoom-Fly-Mercurial-Off-White-Total-Orange           200   \n",
       "\n",
       "       Sale Price  Profit  Profit Margin  Shoe Size Buyer State Buyer Region  \n",
       "82740       203.0     3.0         0.0148        7.0    Illinois      Midwest  "
      ]
     },
     "execution_count": 358,
     "metadata": {},
     "output_type": "execute_result"
    }
   ],
   "source": [
    "df[(df['Sale Price'] ==203.0) & (df['Brand'] == 'Off-White')]"
   ]
  },
  {
   "cell_type": "code",
   "execution_count": 360,
   "metadata": {
    "scrolled": false
   },
   "outputs": [
    {
     "data": {
      "text/html": [
       "<div>\n",
       "<style scoped>\n",
       "    .dataframe tbody tr th:only-of-type {\n",
       "        vertical-align: middle;\n",
       "    }\n",
       "\n",
       "    .dataframe tbody tr th {\n",
       "        vertical-align: top;\n",
       "    }\n",
       "\n",
       "    .dataframe thead th {\n",
       "        text-align: right;\n",
       "    }\n",
       "</style>\n",
       "<table border=\"1\" class=\"dataframe\">\n",
       "  <thead>\n",
       "    <tr style=\"text-align: right;\">\n",
       "      <th></th>\n",
       "      <th>Order Date</th>\n",
       "      <th>Release Date</th>\n",
       "      <th>Brand</th>\n",
       "      <th>Sneaker Name</th>\n",
       "      <th>Retail Price</th>\n",
       "      <th>Sale Price</th>\n",
       "      <th>Profit</th>\n",
       "      <th>Profit Margin</th>\n",
       "      <th>Shoe Size</th>\n",
       "      <th>Buyer State</th>\n",
       "      <th>Buyer Region</th>\n",
       "    </tr>\n",
       "  </thead>\n",
       "  <tbody>\n",
       "    <tr>\n",
       "      <td>26870</td>\n",
       "      <td>2018-05-26</td>\n",
       "      <td>2017-09-09</td>\n",
       "      <td>Off-White</td>\n",
       "      <td>Air-Jordan-1-Retro-High-Off-White-Chicago</td>\n",
       "      <td>190</td>\n",
       "      <td>4050.0</td>\n",
       "      <td>3860.0</td>\n",
       "      <td>0.9531</td>\n",
       "      <td>6.0</td>\n",
       "      <td>Wisconsin</td>\n",
       "      <td>Midwest</td>\n",
       "    </tr>\n",
       "  </tbody>\n",
       "</table>\n",
       "</div>"
      ],
      "text/plain": [
       "      Order Date Release Date      Brand  \\\n",
       "26870 2018-05-26   2017-09-09  Off-White   \n",
       "\n",
       "                                    Sneaker Name  Retail Price  Sale Price  \\\n",
       "26870  Air-Jordan-1-Retro-High-Off-White-Chicago           190      4050.0   \n",
       "\n",
       "       Profit  Profit Margin  Shoe Size Buyer State Buyer Region  \n",
       "26870  3860.0         0.9531        6.0   Wisconsin      Midwest  "
      ]
     },
     "execution_count": 360,
     "metadata": {},
     "output_type": "execute_result"
    }
   ],
   "source": [
    "df[(df['Sale Price'] ==4050.0) & (df['Brand'] == 'Off-White')]"
   ]
  },
  {
   "cell_type": "markdown",
   "metadata": {},
   "source": [
    "Yeezy Outliers?"
   ]
  },
  {
   "cell_type": "code",
   "execution_count": 361,
   "metadata": {},
   "outputs": [
    {
     "data": {
      "text/plain": [
       "count    72162.000000\n",
       "mean       360.032625\n",
       "std        143.732130\n",
       "min        186.000000\n",
       "25%        268.000000\n",
       "50%        316.000000\n",
       "75%        399.000000\n",
       "max       2300.000000\n",
       "Name: Sale Price, dtype: float64"
      ]
     },
     "execution_count": 361,
     "metadata": {},
     "output_type": "execute_result"
    }
   ],
   "source": [
    "sale_price_yeezy.describe()"
   ]
  },
  {
   "cell_type": "code",
   "execution_count": 388,
   "metadata": {},
   "outputs": [
    {
     "name": "stdout",
     "output_type": "stream",
     "text": [
      "71.5\n",
      "595.5\n"
     ]
    }
   ],
   "source": [
    "yeezy_iqr = 399-268\n",
    "yeezy_upper_outlier = 399 +(1.5*yeezy_iqr)\n",
    "yeezy_lower_outlier = 268-(1.5*yeezy_iqr)\n",
    "print(yeezy_lower_outlier)\n",
    "print(yeezy_upper_outlier)"
   ]
  },
  {
   "cell_type": "code",
   "execution_count": 390,
   "metadata": {},
   "outputs": [
    {
     "data": {
      "text/html": [
       "<div>\n",
       "<style scoped>\n",
       "    .dataframe tbody tr th:only-of-type {\n",
       "        vertical-align: middle;\n",
       "    }\n",
       "\n",
       "    .dataframe tbody tr th {\n",
       "        vertical-align: top;\n",
       "    }\n",
       "\n",
       "    .dataframe thead th {\n",
       "        text-align: right;\n",
       "    }\n",
       "</style>\n",
       "<table border=\"1\" class=\"dataframe\">\n",
       "  <thead>\n",
       "    <tr style=\"text-align: right;\">\n",
       "      <th></th>\n",
       "      <th>Order Date</th>\n",
       "      <th>Release Date</th>\n",
       "      <th>Brand</th>\n",
       "      <th>Sneaker Name</th>\n",
       "      <th>Retail Price</th>\n",
       "      <th>Sale Price</th>\n",
       "      <th>Profit</th>\n",
       "      <th>Profit Margin</th>\n",
       "      <th>Shoe Size</th>\n",
       "      <th>Buyer State</th>\n",
       "      <th>Buyer Region</th>\n",
       "    </tr>\n",
       "  </thead>\n",
       "  <tbody>\n",
       "    <tr>\n",
       "      <td>70545</td>\n",
       "      <td>2018-12-05</td>\n",
       "      <td>2018-11-23</td>\n",
       "      <td>Yeezy</td>\n",
       "      <td>Adidas-Yeezy-Boost-350-V2-Sesame</td>\n",
       "      <td>220</td>\n",
       "      <td>186.0</td>\n",
       "      <td>-34.0</td>\n",
       "      <td>-0.1828</td>\n",
       "      <td>4.0</td>\n",
       "      <td>New Jersey</td>\n",
       "      <td>Northeast</td>\n",
       "    </tr>\n",
       "  </tbody>\n",
       "</table>\n",
       "</div>"
      ],
      "text/plain": [
       "      Order Date Release Date  Brand                      Sneaker Name  \\\n",
       "70545 2018-12-05   2018-11-23  Yeezy  Adidas-Yeezy-Boost-350-V2-Sesame   \n",
       "\n",
       "       Retail Price  Sale Price  Profit  Profit Margin  Shoe Size Buyer State  \\\n",
       "70545           220       186.0   -34.0        -0.1828        4.0  New Jersey   \n",
       "\n",
       "      Buyer Region  \n",
       "70545    Northeast  "
      ]
     },
     "execution_count": 390,
     "metadata": {},
     "output_type": "execute_result"
    }
   ],
   "source": [
    "df[(df['Sale Price'] == 186) & (df['Brand']== 'Yeezy')]"
   ]
  },
  {
   "cell_type": "code",
   "execution_count": 391,
   "metadata": {
    "scrolled": true
   },
   "outputs": [
    {
     "data": {
      "text/html": [
       "<div>\n",
       "<style scoped>\n",
       "    .dataframe tbody tr th:only-of-type {\n",
       "        vertical-align: middle;\n",
       "    }\n",
       "\n",
       "    .dataframe tbody tr th {\n",
       "        vertical-align: top;\n",
       "    }\n",
       "\n",
       "    .dataframe thead th {\n",
       "        text-align: right;\n",
       "    }\n",
       "</style>\n",
       "<table border=\"1\" class=\"dataframe\">\n",
       "  <thead>\n",
       "    <tr style=\"text-align: right;\">\n",
       "      <th></th>\n",
       "      <th>Order Date</th>\n",
       "      <th>Release Date</th>\n",
       "      <th>Brand</th>\n",
       "      <th>Sneaker Name</th>\n",
       "      <th>Retail Price</th>\n",
       "      <th>Sale Price</th>\n",
       "      <th>Profit</th>\n",
       "      <th>Profit Margin</th>\n",
       "      <th>Shoe Size</th>\n",
       "      <th>Buyer State</th>\n",
       "      <th>Buyer Region</th>\n",
       "    </tr>\n",
       "  </thead>\n",
       "  <tbody>\n",
       "    <tr>\n",
       "      <td>298</td>\n",
       "      <td>2017-09-14</td>\n",
       "      <td>2015-06-27</td>\n",
       "      <td>Yeezy</td>\n",
       "      <td>Adidas-Yeezy-Boost-350-Low-Turtledove</td>\n",
       "      <td>200</td>\n",
       "      <td>2300.0</td>\n",
       "      <td>2100.0</td>\n",
       "      <td>0.913</td>\n",
       "      <td>14.0</td>\n",
       "      <td>Iowa</td>\n",
       "      <td>Midwest</td>\n",
       "    </tr>\n",
       "  </tbody>\n",
       "</table>\n",
       "</div>"
      ],
      "text/plain": [
       "    Order Date Release Date  Brand                           Sneaker Name  \\\n",
       "298 2017-09-14   2015-06-27  Yeezy  Adidas-Yeezy-Boost-350-Low-Turtledove   \n",
       "\n",
       "     Retail Price  Sale Price  Profit  Profit Margin  Shoe Size Buyer State  \\\n",
       "298           200      2300.0  2100.0          0.913       14.0        Iowa   \n",
       "\n",
       "    Buyer Region  \n",
       "298      Midwest  "
      ]
     },
     "execution_count": 391,
     "metadata": {},
     "output_type": "execute_result"
    }
   ],
   "source": [
    "df[(df['Sale Price'] == 2300) & (df['Brand']== 'Yeezy')]"
   ]
  },
  {
   "cell_type": "markdown",
   "metadata": {},
   "source": [
    "How many outliers for Yeezys?\n"
   ]
  },
  {
   "cell_type": "code",
   "execution_count": 393,
   "metadata": {},
   "outputs": [
    {
     "data": {
      "text/plain": [
       "4851"
      ]
     },
     "execution_count": 393,
     "metadata": {},
     "output_type": "execute_result"
    }
   ],
   "source": [
    "yeezy_sale_price_outliers =  df[(df['Sale Price'] <= 71.5) | (df['Sale Price'] >= 595.5)]\n",
    "yeezy_sale_price_outliers = yeezy_sale_price_outliers[yeezy_sale_price_outliers['Brand']=='Yeezy']\n",
    "yeezy_sale_price_outliers.shape[0]"
   ]
  },
  {
   "cell_type": "code",
   "execution_count": 394,
   "metadata": {},
   "outputs": [
    {
     "data": {
      "text/plain": [
       "array(['Adidas-Yeezy-Boost-350-Low-V2-Beluga',\n",
       "       'Adidas-Yeezy-Boost-350-V2-Core-Black-Copper',\n",
       "       'Adidas-Yeezy-Boost-350-V2-Core-Black-Green',\n",
       "       'Adidas-Yeezy-Boost-350-V2-Core-Black-Red',\n",
       "       'Adidas-Yeezy-Boost-350-V2-Core-Black-Red-2017',\n",
       "       'Adidas-Yeezy-Boost-350-V2-Core-Black-White',\n",
       "       'Adidas-Yeezy-Boost-350-V2-Zebra',\n",
       "       'Adidas-Yeezy-Boost-350-Low-Moonrock',\n",
       "       'Adidas-Yeezy-Boost-350-V2-Cream-White',\n",
       "       'Adidas-Yeezy-Boost-350-Low-Pirate-Black-2016',\n",
       "       'Adidas-Yeezy-Boost-350-Low-Oxford-Tan',\n",
       "       'Adidas-Yeezy-Boost-350-Low-Turtledove',\n",
       "       'Adidas-Yeezy-Boost-350-Low-Pirate-Black-2015',\n",
       "       'Adidas-Yeezy-Boost-350-V2-Semi-Frozen-Yellow',\n",
       "       'Adidas-Yeezy-Boost-350-V2-Beluga-2pt0',\n",
       "       'Adidas-Yeezy-Boost-350-V2-Blue-Tint',\n",
       "       'adidas-Yeezy-Boost-350-V2-Butter',\n",
       "       'adidas-Yeezy-Boost-350-V2-Static',\n",
       "       'adidas-Yeezy-Boost-350-V2-Static-Reflective'], dtype=object)"
      ]
     },
     "execution_count": 394,
     "metadata": {},
     "output_type": "execute_result"
    }
   ],
   "source": [
    "yeezy_sale_price_outliers['Sneaker Name'].unique()"
   ]
  },
  {
   "cell_type": "code",
   "execution_count": 400,
   "metadata": {},
   "outputs": [],
   "source": [
    "def hist_plot(x,x_label,y_label):\n",
    "\t\tfig, ax = plt.subplots(figsize = (10,6))\n",
    "\t\tax.hist(x, bins = 25)\n",
    "\t\tax.set_xlabel(x_label)\n",
    "\t\tax.set_ylabel(y_label)"
   ]
  },
  {
   "cell_type": "code",
   "execution_count": 401,
   "metadata": {},
   "outputs": [
    {
     "data": {
      "image/png": "[encoded data removed]",
      "text/plain": [
       "<Figure size 720x432 with 1 Axes>"
      ]
     },
     "metadata": {
      "needs_background": "light"
     },
     "output_type": "display_data"
    }
   ],
   "source": [
    "hist_plot(sale_price_off_white, 'Sale Price', 'Frequency')"
   ]
  },
  {
   "cell_type": "code",
   "execution_count": 403,
   "metadata": {},
   "outputs": [
    {
     "data": {
      "image/png": "[encoded data removed]",
      "text/plain": [
       "<Figure size 720x432 with 1 Axes>"
      ]
     },
     "metadata": {
      "needs_background": "light"
     },
     "output_type": "display_data"
    }
   ],
   "source": [
    "hist_plot(sale_price_yeezy,'Sale Price', 'Frequency')"
   ]
  },
  {
   "cell_type": "markdown",
   "metadata": {},
   "source": [
    "What did each region and state spend on each brand?"
   ]
  },
  {
   "cell_type": "code",
   "execution_count": 411,
   "metadata": {},
   "outputs": [],
   "source": [
    "def region_df(df, reg_name):\n",
    "\t\treturn df[df['Buyer Region']== reg_name]"
   ]
  },
  {
   "cell_type": "code",
   "execution_count": 430,
   "metadata": {},
   "outputs": [],
   "source": [
    "west_df = region_df(df,'West')\n",
    "south_df = region_df(df,'South')\n",
    "northeast_df = region_df(df, 'Northeast')\n",
    "midwest_df = region_df(df,'Midwest')\n"
   ]
  },
  {
   "cell_type": "code",
   "execution_count": 420,
   "metadata": {},
   "outputs": [],
   "source": [
    "def brand_count(region_df):\n",
    "\t\t\treturn region_df['Brand'].value_counts()"
   ]
  },
  {
   "cell_type": "code",
   "execution_count": 434,
   "metadata": {},
   "outputs": [],
   "source": [
    "west_brand_count = brand_count(west_df)\n",
    "south_brand_count = brand_count(south_df)\n",
    "northeast_brand_count = brand_count(northeast_df)\n",
    "midwest_brand_count = brand_count(midwest_df)"
   ]
  },
  {
   "cell_type": "code",
   "execution_count": 539,
   "metadata": {},
   "outputs": [
    {
     "data": {
      "text/plain": [
       "Yeezy        22337\n",
       "Off-White    10065\n",
       "Name: Brand, dtype: int64"
      ]
     },
     "execution_count": 539,
     "metadata": {},
     "output_type": "execute_result"
    }
   ],
   "source": [
    "west_brand_count"
   ]
  },
  {
   "cell_type": "code",
   "execution_count": 423,
   "metadata": {},
   "outputs": [
    {
     "data": {
      "text/plain": [
       "Yeezy        17117\n",
       "Off-White     6221\n",
       "Name: Brand, dtype: int64"
      ]
     },
     "execution_count": 423,
     "metadata": {},
     "output_type": "execute_result"
    }
   ],
   "source": [
    "south_brand_count"
   ]
  },
  {
   "cell_type": "code",
   "execution_count": 435,
   "metadata": {},
   "outputs": [
    {
     "data": {
      "text/plain": [
       "Yeezy        23030\n",
       "Off-White     8337\n",
       "Name: Brand, dtype: int64"
      ]
     },
     "execution_count": 435,
     "metadata": {},
     "output_type": "execute_result"
    }
   ],
   "source": [
    "northeast_brand_count"
   ]
  },
  {
   "cell_type": "code",
   "execution_count": 425,
   "metadata": {
    "scrolled": false
   },
   "outputs": [
    {
     "data": {
      "text/plain": [
       "Yeezy        9678\n",
       "Off-White    3171\n",
       "Name: Brand, dtype: int64"
      ]
     },
     "execution_count": 425,
     "metadata": {},
     "output_type": "execute_result"
    }
   ],
   "source": [
    "midwest_brand_count"
   ]
  },
  {
   "cell_type": "code",
   "execution_count": 542,
   "metadata": {
    "scrolled": true
   },
   "outputs": [
    {
     "data": {
      "image/png": "[encoded data removed]",
      "text/plain": [
       "<Figure size 720x432 with 4 Axes>"
      ]
     },
     "metadata": {
      "needs_background": "light"
     },
     "output_type": "display_data"
    }
   ],
   "source": [
    "x = west_brand_count.index\n",
    "y = [west_brand_count,northeast_brand_count,south_brand_count,midwest_brand_count]\n",
    "title= ['West', 'Northeast', 'South', 'Midwest']\n",
    "fig, axs = plt.subplots(2,2, figsize =(10,6))\n",
    "for i, ax in enumerate(axs.flatten()):\n",
    "    ax.bar(x,y[i])\n",
    "    ax.set_title(title[i])\n",
    "    ax.set_ylabel('Quantity')\n",
    "plt.tight_layout()"
   ]
  },
  {
   "cell_type": "markdown",
   "metadata": {},
   "source": [
    "Region Spending by Brand"
   ]
  },
  {
   "cell_type": "code",
   "execution_count": 567,
   "metadata": {},
   "outputs": [],
   "source": [
    "def reg_spending(reg_df):\n",
    "    return reg_df.groupby('Brand')['Sale Price'].sum()\n",
    "\n",
    "w_spent = reg_spending(west_df)\n",
    "ne_spent = reg_spending(northeast_df)\n",
    "s_spent = reg_spending(south_df)\n",
    "mw_spent = reg_spending(midwest_df)\n"
   ]
  },
  {
   "cell_type": "code",
   "execution_count": 568,
   "metadata": {
    "scrolled": true
   },
   "outputs": [
    {
     "data": {
      "image/png": "[encoded data removed]",
      "text/plain": [
       "<Figure size 720x432 with 4 Axes>"
      ]
     },
     "metadata": {
      "needs_background": "light"
     },
     "output_type": "display_data"
    }
   ],
   "source": [
    "x = w_spent.index\n",
    "y = [w_spent, ne_spent,s_spent, mw_spent]\n",
    "title= ['West', 'Northeast', 'South', 'Midwest']\n",
    "fig, axs = plt.subplots(2,2, figsize =(10,6))\n",
    "for i, ax in enumerate(axs.flatten()):\n",
    "    ax.bar(x,y[i])\n",
    "    ax.set_title(title[i])\n",
    "    ax.set_ylabel('Amount')\n",
    "plt.tight_layout()"
   ]
  },
  {
   "cell_type": "code",
   "execution_count": 515,
   "metadata": {},
   "outputs": [],
   "source": [
    "def state_brand_count(df, state):\n",
    "\t\treturn df[df['Buyer State']==state]['Brand'].value_counts()\n",
    "\n",
    "def state_count_list(df,lst): \n",
    "\t\treturn [state_brand_count(df,state) for state in lst]"
   ]
  },
  {
   "cell_type": "code",
   "execution_count": 533,
   "metadata": {},
   "outputs": [],
   "source": [
    "ca_count= state_brand_count(df, 'California')\n",
    "ny_count= state_brand_count(df, 'New York')\n",
    "or_count= state_brand_count(df, 'Oregon')\n",
    "fl_count= state_brand_count(df, 'Florida')\n",
    "tx_count = state_brand_count(df, 'Texas')"
   ]
  },
  {
   "cell_type": "code",
   "execution_count": 537,
   "metadata": {},
   "outputs": [
    {
     "data": {
      "image/png": "[encoded data removed]",
      "text/plain": [
       "<Figure size 720x288 with 5 Axes>"
      ]
     },
     "metadata": {
      "needs_background": "light"
     },
     "output_type": "display_data"
    }
   ],
   "source": [
    "x = ca_count.index\n",
    "y = [ca_count,ny_count,or_count,fl_count,tx_count]\n",
    "title= ['California', 'New York', 'Oregon', 'Florida', 'Texas']\n",
    "fig, axs = plt.subplots(1,5, figsize =(10,4))\n",
    "for i, ax in enumerate(axs.flatten()):\n",
    "    ax.bar(x,y[i])\n",
    "    ax.set_title(title[i])\n",
    "    ax.set_ylabel('Quantity')\n",
    "plt.tight_layout()"
   ]
  },
  {
   "cell_type": "code",
   "execution_count": 608,
   "metadata": {},
   "outputs": [
    {
     "data": {
      "text/plain": [
       "Buyer State    Brand    \n",
       "Alabama        Off-White    596.426829\n",
       "               Yeezy        352.000000\n",
       "Alaska         Off-White    644.400000\n",
       "               Yeezy        333.463415\n",
       "Arizona        Off-White    701.844665\n",
       "                               ...    \n",
       "West Virginia  Yeezy        336.893617\n",
       "Wisconsin      Off-White    672.604762\n",
       "               Yeezy        354.617460\n",
       "Wyoming        Off-White    600.000000\n",
       "               Yeezy        337.205128\n",
       "Name: Sale Price, Length: 102, dtype: float64"
      ]
     },
     "execution_count": 608,
     "metadata": {},
     "output_type": "execute_result"
    }
   ],
   "source": [
    "state_spent = df.groupby(['Buyer State','Brand'])['Sale Price'].mean()\n",
    "state_spent"
   ]
  },
  {
   "cell_type": "code",
   "execution_count": 609,
   "metadata": {},
   "outputs": [
    {
     "data": {
      "text/plain": [
       "373.7813738503775"
      ]
     },
     "execution_count": 609,
     "metadata": {},
     "output_type": "execute_result"
    }
   ],
   "source": [
    "state_spent.loc[('California', 'Yeezy')]"
   ]
  },
  {
   "cell_type": "code",
   "execution_count": 610,
   "metadata": {},
   "outputs": [
    {
     "data": {
      "text/plain": [
       "697.9200955099424"
      ]
     },
     "execution_count": 610,
     "metadata": {},
     "output_type": "execute_result"
    }
   ],
   "source": [
    "state_spent.loc[('California','Off-White')]"
   ]
  },
  {
   "cell_type": "code",
   "execution_count": 612,
   "metadata": {},
   "outputs": [],
   "source": [
    "def state_spending(grouped_df, state):\n",
    "\t\treturn [grouped_df.loc[(state,'Yeezy')],grouped_df.loc[(state,'Off-White')]]\n",
    "\n",
    "def multi_state_spending(grouped_df, state_lst):\n",
    "\t\treturn [state_spending(grouped_df, state) for state in state_lst]\t\n",
    "def multi_bar(x, y,rows, columns,  title, ylabel):\n",
    "    fig, axs = plt.subplots(rows, columns, figsize =(10,6))\n",
    "    for i, ax in enumerate(axs.flatten()):\n",
    "        ax.bar(x,y[i])\n",
    "        ax.set_title(title[i])\n",
    "        ax.set_ylabel(ylabel)\n",
    "    plt.tight_layout()"
   ]
  },
  {
   "cell_type": "code",
   "execution_count": 613,
   "metadata": {},
   "outputs": [
    {
     "data": {
      "image/png": "[encoded data removed]",
      "text/plain": [
       "<Figure size 720x432 with 5 Axes>"
      ]
     },
     "metadata": {
      "needs_background": "light"
     },
     "output_type": "display_data"
    }
   ],
   "source": [
    "top_5_states = ['California', 'New York', 'Oregon', 'Florida', 'Texas']\n",
    "y = multi_state_spending(state_spent, top_5_states)\n",
    "x = ['Yeezy', 'Off-White']\n",
    "title = top_5_states\n",
    "y_label = 'Amount'\n",
    "\n",
    "multi_bar(x,y,1,5,title,y_label)\n"
   ]
  },
  {
   "cell_type": "markdown",
   "metadata": {},
   "source": [
    "Profit and Profit Margin Exploration "
   ]
  },
  {
   "cell_type": "code",
   "execution_count": 646,
   "metadata": {},
   "outputs": [],
   "source": [
    "def box_plot(data,xticklabels, label, showfliers = False, vert = False):\n",
    "\t\tfig, ax = plt.subplots(figsize = (10,6))\n",
    "\t\tax.grid(False)\n",
    "\t\tax.boxplot(data, showfliers =showfliers, vert = vert)\n",
    "\t\tif vert:\n",
    "\t\t\tax.set_xticklabels(xticklabels)\n",
    "\t\t\tax.set_ylabel(ylabel)\n",
    "\t\telse:\n",
    "\t\t\tax.set_yticklabels(xticklabels)\n",
    "\t\t\tax.set_xlabel(label)\n"
   ]
  },
  {
   "cell_type": "code",
   "execution_count": 604,
   "metadata": {},
   "outputs": [],
   "source": [
    "average_profit = df.groupby('Brand')['Profit'].mean()"
   ]
  },
  {
   "cell_type": "code",
   "execution_count": 605,
   "metadata": {},
   "outputs": [
    {
     "data": {
      "image/png": "[encoded data removed]",
      "text/plain": [
       "<Figure size 720x432 with 1 Axes>"
      ]
     },
     "metadata": {
      "needs_background": "light"
     },
     "output_type": "display_data"
    }
   ],
   "source": [
    "bar_plot(average_profit.index, average_profit,'Brand', 'Average Profit')"
   ]
  },
  {
   "cell_type": "code",
   "execution_count": 614,
   "metadata": {},
   "outputs": [],
   "source": [
    "average_profit_margin = df.groupby('Brand')['Profit Margin'].mean()"
   ]
  },
  {
   "cell_type": "code",
   "execution_count": 616,
   "metadata": {},
   "outputs": [
    {
     "data": {
      "image/png": "[encoded data removed]",
      "text/plain": [
       "<Figure size 720x432 with 1 Axes>"
      ]
     },
     "metadata": {
      "needs_background": "light"
     },
     "output_type": "display_data"
    }
   ],
   "source": [
    "bar_plot(average_profit_margin.index, average_profit_margin,'Brand', 'Average Profit Margin')"
   ]
  },
  {
   "cell_type": "code",
   "execution_count": 647,
   "metadata": {},
   "outputs": [
    {
     "data": {
      "image/png": "[encoded data removed]",
      "text/plain": [
       "<Figure size 720x432 with 1 Axes>"
      ]
     },
     "metadata": {
      "needs_background": "light"
     },
     "output_type": "display_data"
    }
   ],
   "source": [
    "ow_profit = df[df['Brand']== 'Off-White']['Profit']\n",
    "yeezy_profit = df[df['Brand']=='Yeezy']['Profit']\n",
    "box_plot([ow_profit,yeezy_profit],['Off-White','Yeezy'],'Profit')"
   ]
  },
  {
   "cell_type": "code",
   "execution_count": 651,
   "metadata": {},
   "outputs": [
    {
     "data": {
      "image/png": "[encoded data removed]",
      "text/plain": [
       "<Figure size 720x432 with 1 Axes>"
      ]
     },
     "metadata": {
      "needs_background": "light"
     },
     "output_type": "display_data"
    }
   ],
   "source": [
    "ow_profit_margin= df[df['Brand']== 'Off-White']['Profit Margin']\n",
    "yeezy_profit_margin= df[df['Brand']== 'Yeezy']['Profit Margin']\n",
    "box_plot([ow_profit_margin,yeezy_profit_margin], ['Off-White','Yeezy'],'Profit Margin')"
   ]
  },
  {
   "cell_type": "code",
   "execution_count": null,
   "metadata": {},
   "outputs": [],
   "source": []
  }
 ],
 "metadata": {
  "kernelspec": {
   "display_name": "Python 3",
   "language": "python",
   "name": "python3"
  },
  "language_info": {
   "codemirror_mode": {
    "name": "ipython",
    "version": 3
   },
   "file_extension": ".py",
   "mimetype": "text/x-python",
   "name": "python",
   "nbconvert_exporter": "python",
   "pygments_lexer": "ipython3",
   "version": "3.7.7"
  }
 },
 "nbformat": 4,
 "nbformat_minor": 2
}
